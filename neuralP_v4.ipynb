{
 "cells": [
  {
   "cell_type": "markdown",
   "id": "4fb76fbc",
   "metadata": {},
   "source": [
    "- Dataset 36 meses para todos los productos completados con ceros"
   ]
  },
  {
   "cell_type": "code",
   "execution_count": 1,
   "id": "949f91cb",
   "metadata": {},
   "outputs": [],
   "source": [
    "import pandas as pd\n",
    "import numpy as np\n",
    "import importlib\n",
    "import gc\n",
    "import sys\n",
    "import warnings\n",
    "warnings.filterwarnings(\"ignore\")"
   ]
  },
  {
   "cell_type": "code",
   "execution_count": null,
   "id": "3a21bfa8",
   "metadata": {},
   "outputs": [],
   "source": [
    "sys.path.append('../../notebooks/entregable/scripts')\n",
    "import dataset\n",
    "import preprocesamiento\n",
    "import target\n",
    "import feature_engineering\n",
    "importlib.reload(dataset)\n",
    "importlib.reload(preprocesamiento)\n",
    "importlib.reload(target)\n",
    "importlib.reload(feature_engineering)"
   ]
  },
  {
   "cell_type": "code",
   "execution_count": null,
   "id": "e0ed55a0",
   "metadata": {},
   "outputs": [],
   "source": [
    "df = pd.read_csv(\"../../data/preprocessed/base.csv\", sep=',')\n",
    "df.shape"
   ]
  },
  {
   "cell_type": "code",
   "execution_count": null,
   "id": "849bd7cd",
   "metadata": {},
   "outputs": [],
   "source": [
    "#### COMBINATORIA ####\n",
    "data = dataset.combinatoria_periodo_producto()\n",
    "data['periodo'] = data['periodo'].dt.year * 100 + data['periodo'].dt.month\n",
    "data.shape"
   ]
  },
  {
   "cell_type": "code",
   "execution_count": null,
   "id": "83b18c51",
   "metadata": {},
   "outputs": [],
   "source": [
    "productos_ok = pd.read_csv(\"../../data/raw/product_id_apredecir201912.csv\", sep=\"\\t\")\n",
    "data = data[data['product_id'].isin(productos_ok['product_id'].unique())]\n",
    "data"
   ]
  },
  {
   "cell_type": "code",
   "execution_count": null,
   "id": "921ab50d",
   "metadata": {},
   "outputs": [],
   "source": [
    "#### MERGE CON PRODUCTOS ####\n",
    "productos = pd.read_csv(\"../../data/raw/tb_productos.csv\", sep='\\t')\n",
    "productos = productos.drop_duplicates(subset=['product_id'], keep='first')\n",
    "data = data.merge(productos, how='left', on=\"product_id\")\n",
    "del productos\n",
    "\n",
    "#### MERGE CON STOCKS ####\n",
    "stocks = pd.read_csv(\"../../data/raw/tb_stocks.csv\", sep='\\t')\n",
    "stocks = stocks.groupby(by=[\"periodo\", \"product_id\"]).agg({\"stock_final\": \"sum\"}).reset_index()\n",
    "data = data.merge(stocks, how='left', on=['periodo', 'product_id'])\n",
    "del stocks\n",
    "\n",
    "#### MERGE CON SELLIN ####\n",
    "sellin = pd.read_csv(\"../../data/raw/sell-in.csv\", sep='\\t')\n",
    "sellin = sellin.groupby(by=[\"periodo\",\"product_id\"]).agg({\"tn\":\"sum\", \"plan_precios_cuidados\":\"sum\", \"cust_request_qty\":\"sum\", \"cust_request_tn\":\"sum\"}).reset_index()\n",
    "data = data.merge(sellin, how='left', on=['periodo', 'product_id'])\n",
    "del sellin\n",
    "gc.collect()"
   ]
  },
  {
   "cell_type": "code",
   "execution_count": null,
   "id": "c01b0e01",
   "metadata": {},
   "outputs": [],
   "source": [
    "#### COMPLETO TN CON CEROS ####\n",
    "####  ¿cuantos?\n",
    "print(f\"Total de periodos con Nan debido a la combinatoria periodo_x_producto: {data['tn'].isna().sum()}\")\n",
    "#### Lo completo con ceros\n",
    "data['tn'] = data['tn'].fillna(0)"
   ]
  },
  {
   "cell_type": "code",
   "execution_count": null,
   "id": "f49e105f",
   "metadata": {},
   "outputs": [],
   "source": [
    "#### GUARDAR DATAFRAME ####\n",
    "data.to_csv(\"./datasets/periodo_x_producto.csv\", index=False, sep=',', encoding='utf-8')"
   ]
  },
  {
   "cell_type": "code",
   "execution_count": null,
   "id": "a40e687c",
   "metadata": {},
   "outputs": [],
   "source": [
    "data = pd.read_csv(\"./periodo_x_producto.csv\", sep=',')"
   ]
  },
  {
   "cell_type": "code",
   "execution_count": null,
   "id": "2ab20dc1",
   "metadata": {},
   "outputs": [],
   "source": [
    "from neuralprophet import NeuralProphet\n",
    "from tqdm import tqdm\n",
    "\n",
    "# ---------------------\n",
    "# 🛠 Preparación inicial\n",
    "# ---------------------\n",
    "# Levanto\n",
    "data = pd.read_csv(\"./periodo_x_producto.csv\", sep=',')\n",
    "\n",
    "# Creo DF\n",
    "df = data[['product_id','periodo', 'tn']].copy()\n",
    "\n",
    "# Convertir 'periodo' (yyyymm) a datetime\n",
    "df['periodo_dt'] = pd.to_datetime(df['periodo'].astype(str), format='%Y%m')\n",
    "df = df.sort_values(['product_id', 'periodo_dt'])  # Ordenar por producto y fecha\n",
    "\n",
    "df.drop(columns=['periodo'], inplace=True)  # Eliminar columna temporal\n",
    "df.rename(columns={'tn': 'y', 'periodo_dt':'ds'}, inplace=True)  # Renombrar columna de tn\n",
    "\n",
    "productos_ok = pd.read_csv(\"./product_id_apredecir201912.csv\", sep=\"\\t\")\n",
    "\n",
    "# Lista para guardar predicciones\n",
    "predicciones = []\n",
    "\n",
    "\n",
    "# ---------------------\n",
    "# 🔁 Loop por producto\n",
    "# ---------------------\n",
    "for product_id in productos_ok['product_id'].unique():\n",
    "    df_prod = df[df['product_id'] == product_id].sort_values('ds')\n",
    "\n",
    "    if len(df_prod) < 6:\n",
    "        continue  # Salta productos con muy pocos datos\n",
    "\n",
    "    try:\n",
    "        # Definir modelo NeuralProphet\n",
    "        model = NeuralProphet(\n",
    "            yearly_seasonality=True,\n",
    "            weekly_seasonality=False,\n",
    "            daily_seasonality=False,\n",
    "            seasonality_mode='additive'  # importante si hay ceros\n",
    "        )\n",
    "\n",
    "        # Entrenar modelo\n",
    "        model.fit(df_prod[['ds', 'y']], freq='MS', progress='off')\n",
    "\n",
    "        # Crear fechas futuras para mes+2\n",
    "        future = model.make_future_dataframe(df_prod[['ds', 'y']], periods=2)\n",
    "        forecast = model.predict(future)\n",
    "\n",
    "        # Extraer predicción del mes+2 (última fila)\n",
    "        forecast_mes2 = forecast.tail(1)\n",
    "\n",
    "        predicciones.append({\n",
    "            'product_id': product_id,\n",
    "            'fecha_predicha': forecast_mes2['ds'].values[0],\n",
    "            'yhat1': forecast_mes2['yhat1'].values[0]\n",
    "        })\n",
    "    except Exception as e:\n",
    "        print(f\"⚠️ Producto {product_id} falló: {e}\")\n",
    "\n",
    "# ---------------------\n",
    "# 📊 Resultados finales\n",
    "# ---------------------\n",
    "df_predicciones = pd.DataFrame(predicciones)\n",
    "print(df_predicciones.head())"
   ]
  },
  {
   "cell_type": "code",
   "execution_count": 4,
   "id": "8cb2d2ab",
   "metadata": {},
   "outputs": [],
   "source": [
    "df_kaggle = pd.read_csv(\"./datasets/neuralprophet_v4.csv\", sep=',')\n",
    "df_kaggle.rename(columns={'yhat1': 'tn'}, inplace=True)\n",
    "df_kaggle[['product_id', 'tn']].to_csv(\"./datasets/neuralprophet_v4_kaggle.csv\", index=False, sep=',', encoding='utf-8')"
   ]
  },
  {
   "cell_type": "code",
   "execution_count": 5,
   "id": "aba4d1c0",
   "metadata": {},
   "outputs": [],
   "source": [
    "def promedio_12_meses_780p():\n",
    "    \n",
    "    df = pd.read_csv(\"./datasets/periodo_x_producto_con_target.csv\", sep=',', encoding='utf-8')\n",
    "    df = df[df['periodo'] >= 201901]  # Filtrar desde 201901\n",
    "    \n",
    "    productos_ok = pd.read_csv(\"../../data/raw/product_id_apredecir201912.csv\", sep=\"\\t\")\n",
    "\n",
    "    df = df.merge(productos_ok, on='product_id', how='inner')\n",
    "    \n",
    "    df = df.groupby('product_id').agg({'tn': 'mean'}).reset_index()\n",
    "    \n",
    "    return df\n",
    "\n",
    "df_promedios = promedio_12_meses_780p()\n"
   ]
  },
  {
   "cell_type": "code",
   "execution_count": 6,
   "id": "5b8a754a",
   "metadata": {},
   "outputs": [
    {
     "data": {
      "application/vnd.microsoft.datawrangler.viewer.v0+json": {
       "columns": [
        {
         "name": "index",
         "rawType": "int64",
         "type": "integer"
        },
        {
         "name": "product_id",
         "rawType": "int64",
         "type": "integer"
        },
        {
         "name": "fecha_predicha",
         "rawType": "object",
         "type": "string"
        },
        {
         "name": "tn_x",
         "rawType": "float64",
         "type": "float"
        },
        {
         "name": "tn_y",
         "rawType": "float64",
         "type": "float"
        }
       ],
       "ref": "107c94da-307f-4ab2-bfce-f9ee72c1ee46",
       "rows": [
        [
         "0",
         "20001",
         "2020-02-01",
         "978.4982",
         "1454.73272"
        ],
        [
         "1",
         "20002",
         "2020-02-01",
         "1085.8844",
         "1175.4371416666665"
        ],
        [
         "2",
         "20003",
         "2020-02-01",
         "552.6942",
         "784.9764074999999"
        ],
        [
         "3",
         "20004",
         "2020-02-01",
         "406.69934",
         "627.2153283333333"
        ],
        [
         "4",
         "20005",
         "2020-02-01",
         "541.69885",
         "668.2701041666667"
        ],
        [
         "5",
         "20006",
         "2020-02-01",
         "396.00476",
         "478.6137083333333"
        ],
        [
         "6",
         "20007",
         "2020-02-01",
         "258.91687",
         "434.1378058333333"
        ],
        [
         "7",
         "20008",
         "2020-02-01",
         "281.1456",
         "422.0481833333333"
        ],
        [
         "8",
         "20009",
         "2020-02-01",
         "481.9702",
         "541.3225866666667"
        ],
        [
         "9",
         "20010",
         "2020-02-01",
         "164.68953",
         "429.5746608333333"
        ],
        [
         "10",
         "20011",
         "2020-02-01",
         "444.63324",
         "377.63544"
        ],
        [
         "11",
         "20012",
         "2020-02-01",
         "158.1093",
         "332.228885"
        ],
        [
         "12",
         "20013",
         "2020-02-01",
         "304.25125",
         "416.06292"
        ],
        [
         "13",
         "20014",
         "2020-02-01",
         "224.07419",
         "414.70520000000005"
        ],
        [
         "14",
         "20015",
         "2020-02-01",
         "274.31824",
         "369.02365166666664"
        ],
        [
         "15",
         "20016",
         "2020-02-01",
         "223.22505",
         "288.51459"
        ],
        [
         "16",
         "20017",
         "2020-02-01",
         "193.48274",
         "287.38575166666664"
        ],
        [
         "17",
         "20018",
         "2020-02-01",
         "144.00296",
         "275.44511083333333"
        ],
        [
         "18",
         "20019",
         "2020-02-01",
         "203.88226",
         "306.52162749999997"
        ],
        [
         "19",
         "20020",
         "2020-02-01",
         "242.65573",
         "280.10235416666666"
        ],
        [
         "20",
         "20021",
         "2020-02-01",
         "20.138481",
         "259.495665"
        ],
        [
         "21",
         "20022",
         "2020-02-01",
         "183.29184",
         "279.20400333333333"
        ],
        [
         "22",
         "20023",
         "2020-02-01",
         "101.97704",
         "266.90118"
        ],
        [
         "23",
         "20024",
         "2020-02-01",
         "154.90552",
         "222.11553"
        ],
        [
         "24",
         "20025",
         "2020-02-01",
         "247.71385",
         "222.86218499999998"
        ],
        [
         "25",
         "20026",
         "2020-02-01",
         "201.57974",
         "237.10623833333332"
        ],
        [
         "26",
         "20027",
         "2020-02-01",
         "220.15372",
         "230.0149175"
        ],
        [
         "27",
         "20028",
         "2020-02-01",
         "104.435005",
         "213.228015"
        ],
        [
         "28",
         "20029",
         "2020-02-01",
         "222.62389",
         "185.16274833333333"
        ],
        [
         "29",
         "20030",
         "2020-02-01",
         "53.707676",
         "127.85045000000001"
        ],
        [
         "30",
         "20031",
         "2020-02-01",
         "109.45369",
         "185.90788666666666"
        ],
        [
         "31",
         "20032",
         "2020-02-01",
         "909.27966",
         "590.33366"
        ],
        [
         "32",
         "20033",
         "2020-02-01",
         "25.346222",
         "176.0324475"
        ],
        [
         "33",
         "20035",
         "2020-02-01",
         "84.33829",
         "172.19100333333333"
        ],
        [
         "34",
         "20037",
         "2020-02-01",
         "190.09436",
         "179.65005833333336"
        ],
        [
         "35",
         "20038",
         "2020-02-01",
         "173.79507",
         "175.941565"
        ],
        [
         "36",
         "20039",
         "2020-02-01",
         "173.79347",
         "144.37351750000002"
        ],
        [
         "37",
         "20041",
         "2020-02-01",
         "51.94859",
         "144.23799083333333"
        ],
        [
         "38",
         "20042",
         "2020-02-01",
         "161.4212",
         "174.63574083333333"
        ],
        [
         "39",
         "20043",
         "2020-02-01",
         "33.149044",
         "137.17993833333333"
        ],
        [
         "40",
         "20044",
         "2020-02-01",
         "153.24103",
         "169.413755"
        ],
        [
         "41",
         "20045",
         "2020-02-01",
         "96.69483",
         "154.42506916666667"
        ],
        [
         "42",
         "20046",
         "2020-02-01",
         "134.38492",
         "155.99976583333333"
        ],
        [
         "43",
         "20047",
         "2020-02-01",
         "139.87212",
         "165.353965"
        ],
        [
         "44",
         "20049",
         "2020-02-01",
         "125.74874",
         "203.98650999999998"
        ],
        [
         "45",
         "20050",
         "2020-02-01",
         "79.1573",
         "131.337005"
        ],
        [
         "46",
         "20051",
         "2020-02-01",
         "93.14451",
         "150.87717916666668"
        ],
        [
         "47",
         "20052",
         "2020-02-01",
         "72.05774",
         "119.09683416666667"
        ],
        [
         "48",
         "20053",
         "2020-02-01",
         "149.3632",
         "146.06558583333333"
        ],
        [
         "49",
         "20054",
         "2020-02-01",
         "177.54485",
         "137.87184249999999"
        ]
       ],
       "shape": {
        "columns": 4,
        "rows": 780
       }
      },
      "text/html": [
       "<div>\n",
       "<style scoped>\n",
       "    .dataframe tbody tr th:only-of-type {\n",
       "        vertical-align: middle;\n",
       "    }\n",
       "\n",
       "    .dataframe tbody tr th {\n",
       "        vertical-align: top;\n",
       "    }\n",
       "\n",
       "    .dataframe thead th {\n",
       "        text-align: right;\n",
       "    }\n",
       "</style>\n",
       "<table border=\"1\" class=\"dataframe\">\n",
       "  <thead>\n",
       "    <tr style=\"text-align: right;\">\n",
       "      <th></th>\n",
       "      <th>product_id</th>\n",
       "      <th>fecha_predicha</th>\n",
       "      <th>tn_x</th>\n",
       "      <th>tn_y</th>\n",
       "    </tr>\n",
       "  </thead>\n",
       "  <tbody>\n",
       "    <tr>\n",
       "      <th>0</th>\n",
       "      <td>20001</td>\n",
       "      <td>2020-02-01</td>\n",
       "      <td>978.498200</td>\n",
       "      <td>1454.732720</td>\n",
       "    </tr>\n",
       "    <tr>\n",
       "      <th>1</th>\n",
       "      <td>20002</td>\n",
       "      <td>2020-02-01</td>\n",
       "      <td>1085.884400</td>\n",
       "      <td>1175.437142</td>\n",
       "    </tr>\n",
       "    <tr>\n",
       "      <th>2</th>\n",
       "      <td>20003</td>\n",
       "      <td>2020-02-01</td>\n",
       "      <td>552.694200</td>\n",
       "      <td>784.976407</td>\n",
       "    </tr>\n",
       "    <tr>\n",
       "      <th>3</th>\n",
       "      <td>20004</td>\n",
       "      <td>2020-02-01</td>\n",
       "      <td>406.699340</td>\n",
       "      <td>627.215328</td>\n",
       "    </tr>\n",
       "    <tr>\n",
       "      <th>4</th>\n",
       "      <td>20005</td>\n",
       "      <td>2020-02-01</td>\n",
       "      <td>541.698850</td>\n",
       "      <td>668.270104</td>\n",
       "    </tr>\n",
       "    <tr>\n",
       "      <th>...</th>\n",
       "      <td>...</td>\n",
       "      <td>...</td>\n",
       "      <td>...</td>\n",
       "      <td>...</td>\n",
       "    </tr>\n",
       "    <tr>\n",
       "      <th>775</th>\n",
       "      <td>21263</td>\n",
       "      <td>2020-02-01</td>\n",
       "      <td>-0.026363</td>\n",
       "      <td>0.029993</td>\n",
       "    </tr>\n",
       "    <tr>\n",
       "      <th>776</th>\n",
       "      <td>21265</td>\n",
       "      <td>2020-02-01</td>\n",
       "      <td>0.067555</td>\n",
       "      <td>0.089541</td>\n",
       "    </tr>\n",
       "    <tr>\n",
       "      <th>777</th>\n",
       "      <td>21266</td>\n",
       "      <td>2020-02-01</td>\n",
       "      <td>0.074221</td>\n",
       "      <td>0.094659</td>\n",
       "    </tr>\n",
       "    <tr>\n",
       "      <th>778</th>\n",
       "      <td>21267</td>\n",
       "      <td>2020-02-01</td>\n",
       "      <td>0.019894</td>\n",
       "      <td>0.092835</td>\n",
       "    </tr>\n",
       "    <tr>\n",
       "      <th>779</th>\n",
       "      <td>21276</td>\n",
       "      <td>2020-02-01</td>\n",
       "      <td>-0.004823</td>\n",
       "      <td>0.045447</td>\n",
       "    </tr>\n",
       "  </tbody>\n",
       "</table>\n",
       "<p>780 rows × 4 columns</p>\n",
       "</div>"
      ],
      "text/plain": [
       "     product_id fecha_predicha         tn_x         tn_y\n",
       "0         20001     2020-02-01   978.498200  1454.732720\n",
       "1         20002     2020-02-01  1085.884400  1175.437142\n",
       "2         20003     2020-02-01   552.694200   784.976407\n",
       "3         20004     2020-02-01   406.699340   627.215328\n",
       "4         20005     2020-02-01   541.698850   668.270104\n",
       "..          ...            ...          ...          ...\n",
       "775       21263     2020-02-01    -0.026363     0.029993\n",
       "776       21265     2020-02-01     0.067555     0.089541\n",
       "777       21266     2020-02-01     0.074221     0.094659\n",
       "778       21267     2020-02-01     0.019894     0.092835\n",
       "779       21276     2020-02-01    -0.004823     0.045447\n",
       "\n",
       "[780 rows x 4 columns]"
      ]
     },
     "execution_count": 6,
     "metadata": {},
     "output_type": "execute_result"
    }
   ],
   "source": [
    "df_kaggle = df_kaggle.merge(df_promedios, on='product_id', how='left')\n",
    "df_kaggle"
   ]
  },
  {
   "cell_type": "code",
   "execution_count": 7,
   "id": "08a52fdf",
   "metadata": {},
   "outputs": [],
   "source": [
    "df_kaggle.loc[df_kaggle['tn_x'] < 0, 'tn_x'] = df_kaggle['tn_y']\n",
    "df_kaggle.rename(columns={'tn_x': 'tn'}, inplace=True)\n",
    "df_kaggle[['product_id', 'tn']].to_csv(\"./datasets/neuralprophet_v4_kaggle_sinnegativos.csv\", index=False, sep=',', encoding='utf-8')"
   ]
  }
 ],
 "metadata": {
  "kernelspec": {
   "display_name": "py311lab3",
   "language": "python",
   "name": "python3"
  },
  "language_info": {
   "codemirror_mode": {
    "name": "ipython",
    "version": 3
   },
   "file_extension": ".py",
   "mimetype": "text/x-python",
   "name": "python",
   "nbconvert_exporter": "python",
   "pygments_lexer": "ipython3",
   "version": "3.11.13"
  }
 },
 "nbformat": 4,
 "nbformat_minor": 5
}
