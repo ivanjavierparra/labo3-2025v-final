{
 "cells": [
  {
   "cell_type": "code",
   "execution_count": 1,
   "id": "3db31bc1",
   "metadata": {},
   "outputs": [],
   "source": [
    "import pandas as pd"
   ]
  },
  {
   "cell_type": "code",
   "execution_count": 5,
   "id": "1dccf822",
   "metadata": {},
   "outputs": [
    {
     "name": "stdout",
     "output_type": "stream",
     "text": [
      "Leyendo...\n",
      "Sell-In: 2945818 filas y 7 columnas\n",
      "Productos: 1251 filas y 6 columnas\n",
      "Stocks: 13691 filas y 3 columnas\n",
      "Ventas-Productos-Stocks: 2945818 filas y 13 columnas\n",
      "Guardando...\n",
      "Listo.\n"
     ]
    }
   ],
   "source": [
    "print(\"Leyendo...\")\n",
    "sellin = pd.read_csv(\"../data/raw/sell-in.csv\", sep='\\t')\n",
    "productos = pd.read_csv(\"../data/raw/tb_productos.csv\", sep='\\t')\n",
    "productos = productos.drop_duplicates(subset=['product_id'], keep='first')\n",
    "stocks = pd.read_csv(\"../data/raw/tb_stocks.csv\", sep='\\t')\n",
    "\n",
    "# Verificación inicial\n",
    "print(f\"Sell-In: {sellin.shape[0]} filas y {sellin.shape[1]} columnas\")\n",
    "print(f\"Productos: {productos.shape[0]} filas y {productos.shape[1]} columnas\")\n",
    "print(f\"Stocks: {stocks.shape[0]} filas y {stocks.shape[1]} columnas\")\n",
    "\n",
    "# 3. MERGE INICIAL\n",
    "df = sellin.merge(productos, on=\"product_id\", how=\"left\")\n",
    "df = df.merge(stocks, on=[\"product_id\", \"periodo\"], how=\"left\")\n",
    "print(f\"Ventas-Productos-Stocks: {df.shape[0]} filas y {df.shape[1]} columnas\")\n",
    "\n",
    "print(\"Guardando...\")\n",
    "df.to_csv(\"../data/preprocessed/base.csv\", index=False, sep=\",\")\n",
    "print(\"Listo.\")"
   ]
  }
 ],
 "metadata": {
  "kernelspec": {
   "display_name": "base",
   "language": "python",
   "name": "python3"
  },
  "language_info": {
   "codemirror_mode": {
    "name": "ipython",
    "version": 3
   },
   "file_extension": ".py",
   "mimetype": "text/x-python",
   "name": "python",
   "nbconvert_exporter": "python",
   "pygments_lexer": "ipython3",
   "version": "3.12.4"
  }
 },
 "nbformat": 4,
 "nbformat_minor": 5
}
