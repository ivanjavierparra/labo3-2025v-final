{
 "cells": [
  {
   "cell_type": "code",
   "execution_count": 86,
   "id": "ccead590",
   "metadata": {},
   "outputs": [],
   "source": [
    "import pandas as pd\n",
    "import numpy as np\n",
    "from mlforecast import MLForecast\n",
    "from lightgbm import LGBMRegressor\n",
    "from sklearn.model_selection import TimeSeriesSplit\n",
    "from sklearn.metrics import root_mean_squared_error"
   ]
  },
  {
   "cell_type": "markdown",
   "id": "6f566222",
   "metadata": {},
   "source": [
    "##### Dataset \"base\"\n",
    "\n",
    "Para generar el dataset base: Ejecutar este notebook\n",
    "\n",
    "./generadores/generador_dataset_sellin.ipynb\n"
   ]
  },
  {
   "cell_type": "code",
   "execution_count": 87,
   "id": "d8c88698",
   "metadata": {},
   "outputs": [
    {
     "data": {
      "application/vnd.microsoft.datawrangler.viewer.v0+json": {
       "columns": [
        {
         "name": "index",
         "rawType": "int64",
         "type": "integer"
        },
        {
         "name": "periodo",
         "rawType": "int64",
         "type": "integer"
        },
        {
         "name": "customer_id",
         "rawType": "int64",
         "type": "integer"
        },
        {
         "name": "product_id",
         "rawType": "int64",
         "type": "integer"
        },
        {
         "name": "plan_precios_cuidados",
         "rawType": "int64",
         "type": "integer"
        },
        {
         "name": "cust_request_qty",
         "rawType": "int64",
         "type": "integer"
        },
        {
         "name": "cust_request_tn",
         "rawType": "float64",
         "type": "float"
        },
        {
         "name": "tn",
         "rawType": "float64",
         "type": "float"
        },
        {
         "name": "cat1",
         "rawType": "object",
         "type": "string"
        },
        {
         "name": "cat2",
         "rawType": "object",
         "type": "string"
        },
        {
         "name": "cat3",
         "rawType": "object",
         "type": "string"
        },
        {
         "name": "brand",
         "rawType": "object",
         "type": "string"
        },
        {
         "name": "sku_size",
         "rawType": "float64",
         "type": "float"
        },
        {
         "name": "stock_final",
         "rawType": "float64",
         "type": "float"
        }
       ],
       "ref": "c04b78f8-0717-4f58-a6a4-29fed0ec2fd7",
       "rows": [
        [
         "0",
         "201701",
         "10234",
         "20524",
         "0",
         "2",
         "0.053",
         "0.053",
         "HC",
         "VAJILLA",
         "Cristalino",
         "Importado",
         "500.0",
         null
        ],
        [
         "1",
         "201701",
         "10032",
         "20524",
         "0",
         "1",
         "0.13628",
         "0.13628",
         "HC",
         "VAJILLA",
         "Cristalino",
         "Importado",
         "500.0",
         null
        ],
        [
         "2",
         "201701",
         "10217",
         "20524",
         "0",
         "1",
         "0.03028",
         "0.03028",
         "HC",
         "VAJILLA",
         "Cristalino",
         "Importado",
         "500.0",
         null
        ],
        [
         "3",
         "201701",
         "10125",
         "20524",
         "0",
         "1",
         "0.02271",
         "0.02271",
         "HC",
         "VAJILLA",
         "Cristalino",
         "Importado",
         "500.0",
         null
        ],
        [
         "4",
         "201701",
         "10012",
         "20524",
         "0",
         "11",
         "1.54452",
         "1.54452",
         "HC",
         "VAJILLA",
         "Cristalino",
         "Importado",
         "500.0",
         null
        ]
       ],
       "shape": {
        "columns": 13,
        "rows": 5
       }
      },
      "text/html": [
       "<div>\n",
       "<style scoped>\n",
       "    .dataframe tbody tr th:only-of-type {\n",
       "        vertical-align: middle;\n",
       "    }\n",
       "\n",
       "    .dataframe tbody tr th {\n",
       "        vertical-align: top;\n",
       "    }\n",
       "\n",
       "    .dataframe thead th {\n",
       "        text-align: right;\n",
       "    }\n",
       "</style>\n",
       "<table border=\"1\" class=\"dataframe\">\n",
       "  <thead>\n",
       "    <tr style=\"text-align: right;\">\n",
       "      <th></th>\n",
       "      <th>periodo</th>\n",
       "      <th>customer_id</th>\n",
       "      <th>product_id</th>\n",
       "      <th>plan_precios_cuidados</th>\n",
       "      <th>cust_request_qty</th>\n",
       "      <th>cust_request_tn</th>\n",
       "      <th>tn</th>\n",
       "      <th>cat1</th>\n",
       "      <th>cat2</th>\n",
       "      <th>cat3</th>\n",
       "      <th>brand</th>\n",
       "      <th>sku_size</th>\n",
       "      <th>stock_final</th>\n",
       "    </tr>\n",
       "  </thead>\n",
       "  <tbody>\n",
       "    <tr>\n",
       "      <th>0</th>\n",
       "      <td>201701</td>\n",
       "      <td>10234</td>\n",
       "      <td>20524</td>\n",
       "      <td>0</td>\n",
       "      <td>2</td>\n",
       "      <td>0.05300</td>\n",
       "      <td>0.05300</td>\n",
       "      <td>HC</td>\n",
       "      <td>VAJILLA</td>\n",
       "      <td>Cristalino</td>\n",
       "      <td>Importado</td>\n",
       "      <td>500.0</td>\n",
       "      <td>NaN</td>\n",
       "    </tr>\n",
       "    <tr>\n",
       "      <th>1</th>\n",
       "      <td>201701</td>\n",
       "      <td>10032</td>\n",
       "      <td>20524</td>\n",
       "      <td>0</td>\n",
       "      <td>1</td>\n",
       "      <td>0.13628</td>\n",
       "      <td>0.13628</td>\n",
       "      <td>HC</td>\n",
       "      <td>VAJILLA</td>\n",
       "      <td>Cristalino</td>\n",
       "      <td>Importado</td>\n",
       "      <td>500.0</td>\n",
       "      <td>NaN</td>\n",
       "    </tr>\n",
       "    <tr>\n",
       "      <th>2</th>\n",
       "      <td>201701</td>\n",
       "      <td>10217</td>\n",
       "      <td>20524</td>\n",
       "      <td>0</td>\n",
       "      <td>1</td>\n",
       "      <td>0.03028</td>\n",
       "      <td>0.03028</td>\n",
       "      <td>HC</td>\n",
       "      <td>VAJILLA</td>\n",
       "      <td>Cristalino</td>\n",
       "      <td>Importado</td>\n",
       "      <td>500.0</td>\n",
       "      <td>NaN</td>\n",
       "    </tr>\n",
       "    <tr>\n",
       "      <th>3</th>\n",
       "      <td>201701</td>\n",
       "      <td>10125</td>\n",
       "      <td>20524</td>\n",
       "      <td>0</td>\n",
       "      <td>1</td>\n",
       "      <td>0.02271</td>\n",
       "      <td>0.02271</td>\n",
       "      <td>HC</td>\n",
       "      <td>VAJILLA</td>\n",
       "      <td>Cristalino</td>\n",
       "      <td>Importado</td>\n",
       "      <td>500.0</td>\n",
       "      <td>NaN</td>\n",
       "    </tr>\n",
       "    <tr>\n",
       "      <th>4</th>\n",
       "      <td>201701</td>\n",
       "      <td>10012</td>\n",
       "      <td>20524</td>\n",
       "      <td>0</td>\n",
       "      <td>11</td>\n",
       "      <td>1.54452</td>\n",
       "      <td>1.54452</td>\n",
       "      <td>HC</td>\n",
       "      <td>VAJILLA</td>\n",
       "      <td>Cristalino</td>\n",
       "      <td>Importado</td>\n",
       "      <td>500.0</td>\n",
       "      <td>NaN</td>\n",
       "    </tr>\n",
       "  </tbody>\n",
       "</table>\n",
       "</div>"
      ],
      "text/plain": [
       "   periodo  customer_id  product_id  plan_precios_cuidados  cust_request_qty  \\\n",
       "0   201701        10234       20524                      0                 2   \n",
       "1   201701        10032       20524                      0                 1   \n",
       "2   201701        10217       20524                      0                 1   \n",
       "3   201701        10125       20524                      0                 1   \n",
       "4   201701        10012       20524                      0                11   \n",
       "\n",
       "   cust_request_tn       tn cat1     cat2        cat3      brand  sku_size  \\\n",
       "0          0.05300  0.05300   HC  VAJILLA  Cristalino  Importado     500.0   \n",
       "1          0.13628  0.13628   HC  VAJILLA  Cristalino  Importado     500.0   \n",
       "2          0.03028  0.03028   HC  VAJILLA  Cristalino  Importado     500.0   \n",
       "3          0.02271  0.02271   HC  VAJILLA  Cristalino  Importado     500.0   \n",
       "4          1.54452  1.54452   HC  VAJILLA  Cristalino  Importado     500.0   \n",
       "\n",
       "   stock_final  \n",
       "0          NaN  \n",
       "1          NaN  \n",
       "2          NaN  \n",
       "3          NaN  \n",
       "4          NaN  "
      ]
     },
     "execution_count": 87,
     "metadata": {},
     "output_type": "execute_result"
    }
   ],
   "source": [
    "df = pd.read_csv('../../data/preprocessed/base.csv', sep=',')\n",
    "df.head()"
   ]
  },
  {
   "cell_type": "code",
   "execution_count": 88,
   "id": "268cf784",
   "metadata": {},
   "outputs": [
    {
     "data": {
      "application/vnd.microsoft.datawrangler.viewer.v0+json": {
       "columns": [
        {
         "name": "index",
         "rawType": "int64",
         "type": "integer"
        },
        {
         "name": "periodo",
         "rawType": "int64",
         "type": "integer"
        },
        {
         "name": "product_id",
         "rawType": "int64",
         "type": "integer"
        },
        {
         "name": "tn",
         "rawType": "float64",
         "type": "float"
        }
       ],
       "ref": "92753dd7-be81-4359-9010-b7a0f4d338c5",
       "rows": [
        [
         "0",
         "201701",
         "20001",
         "934.77222"
        ],
        [
         "1",
         "201701",
         "20002",
         "550.15707"
        ],
        [
         "2",
         "201701",
         "20003",
         "1063.45835"
        ],
        [
         "3",
         "201701",
         "20004",
         "555.9161399999999"
        ],
        [
         "4",
         "201701",
         "20005",
         "494.27011"
        ]
       ],
       "shape": {
        "columns": 3,
        "rows": 5
       }
      },
      "text/html": [
       "<div>\n",
       "<style scoped>\n",
       "    .dataframe tbody tr th:only-of-type {\n",
       "        vertical-align: middle;\n",
       "    }\n",
       "\n",
       "    .dataframe tbody tr th {\n",
       "        vertical-align: top;\n",
       "    }\n",
       "\n",
       "    .dataframe thead th {\n",
       "        text-align: right;\n",
       "    }\n",
       "</style>\n",
       "<table border=\"1\" class=\"dataframe\">\n",
       "  <thead>\n",
       "    <tr style=\"text-align: right;\">\n",
       "      <th></th>\n",
       "      <th>periodo</th>\n",
       "      <th>product_id</th>\n",
       "      <th>tn</th>\n",
       "    </tr>\n",
       "  </thead>\n",
       "  <tbody>\n",
       "    <tr>\n",
       "      <th>0</th>\n",
       "      <td>201701</td>\n",
       "      <td>20001</td>\n",
       "      <td>934.77222</td>\n",
       "    </tr>\n",
       "    <tr>\n",
       "      <th>1</th>\n",
       "      <td>201701</td>\n",
       "      <td>20002</td>\n",
       "      <td>550.15707</td>\n",
       "    </tr>\n",
       "    <tr>\n",
       "      <th>2</th>\n",
       "      <td>201701</td>\n",
       "      <td>20003</td>\n",
       "      <td>1063.45835</td>\n",
       "    </tr>\n",
       "    <tr>\n",
       "      <th>3</th>\n",
       "      <td>201701</td>\n",
       "      <td>20004</td>\n",
       "      <td>555.91614</td>\n",
       "    </tr>\n",
       "    <tr>\n",
       "      <th>4</th>\n",
       "      <td>201701</td>\n",
       "      <td>20005</td>\n",
       "      <td>494.27011</td>\n",
       "    </tr>\n",
       "  </tbody>\n",
       "</table>\n",
       "</div>"
      ],
      "text/plain": [
       "   periodo  product_id          tn\n",
       "0   201701       20001   934.77222\n",
       "1   201701       20002   550.15707\n",
       "2   201701       20003  1063.45835\n",
       "3   201701       20004   555.91614\n",
       "4   201701       20005   494.27011"
      ]
     },
     "execution_count": 88,
     "metadata": {},
     "output_type": "execute_result"
    }
   ],
   "source": [
    "dfg = df.groupby(['periodo', 'product_id']).agg({'tn': 'sum'}).reset_index()\n",
    "dfg.head()"
   ]
  },
  {
   "cell_type": "code",
   "execution_count": 89,
   "id": "77389a0d",
   "metadata": {},
   "outputs": [
    {
     "data": {
      "application/vnd.microsoft.datawrangler.viewer.v0+json": {
       "columns": [
        {
         "name": "index",
         "rawType": "int64",
         "type": "integer"
        },
        {
         "name": "unique_id",
         "rawType": "int64",
         "type": "integer"
        },
        {
         "name": "y",
         "rawType": "float64",
         "type": "float"
        },
        {
         "name": "ds",
         "rawType": "datetime64[ns]",
         "type": "datetime"
        }
       ],
       "ref": "3bb999b9-b3a8-42e8-a978-eb5489a9f7ba",
       "rows": [
        [
         "0",
         "20001",
         "934.77222",
         "2017-01-01 00:00:00"
        ],
        [
         "1",
         "20002",
         "550.15707",
         "2017-01-01 00:00:00"
        ],
        [
         "2",
         "20003",
         "1063.45835",
         "2017-01-01 00:00:00"
        ],
        [
         "3",
         "20004",
         "555.9161399999999",
         "2017-01-01 00:00:00"
        ],
        [
         "4",
         "20005",
         "494.27011",
         "2017-01-01 00:00:00"
        ],
        [
         "5",
         "20006",
         "528.40996",
         "2017-01-01 00:00:00"
        ],
        [
         "6",
         "20007",
         "464.67137",
         "2017-01-01 00:00:00"
        ],
        [
         "7",
         "20008",
         "523.04609",
         "2017-01-01 00:00:00"
        ],
        [
         "8",
         "20009",
         "378.08172",
         "2017-01-01 00:00:00"
        ],
        [
         "9",
         "20010",
         "441.25546",
         "2017-01-01 00:00:00"
        ],
        [
         "10",
         "20011",
         "489.25422000000003",
         "2017-01-01 00:00:00"
        ],
        [
         "11",
         "20012",
         "476.39728",
         "2017-01-01 00:00:00"
        ],
        [
         "12",
         "20013",
         "433.34928",
         "2017-01-01 00:00:00"
        ],
        [
         "13",
         "20014",
         "248.65917",
         "2017-01-01 00:00:00"
        ],
        [
         "14",
         "20015",
         "304.24755",
         "2017-01-01 00:00:00"
        ],
        [
         "15",
         "20016",
         "293.66064",
         "2017-01-01 00:00:00"
        ],
        [
         "16",
         "20017",
         "327.60433",
         "2017-01-01 00:00:00"
        ],
        [
         "17",
         "20018",
         "343.26727999999997",
         "2017-01-01 00:00:00"
        ],
        [
         "18",
         "20019",
         "409.5724",
         "2017-01-01 00:00:00"
        ],
        [
         "19",
         "20020",
         "293.38983",
         "2017-01-01 00:00:00"
        ],
        [
         "20",
         "20021",
         "331.17312",
         "2017-01-01 00:00:00"
        ],
        [
         "21",
         "20022",
         "316.55771",
         "2017-01-01 00:00:00"
        ],
        [
         "22",
         "20023",
         "207.13875",
         "2017-01-01 00:00:00"
        ],
        [
         "23",
         "20024",
         "313.33302",
         "2017-01-01 00:00:00"
        ],
        [
         "24",
         "20025",
         "166.81392",
         "2017-01-01 00:00:00"
        ],
        [
         "25",
         "20026",
         "184.40019999999998",
         "2017-01-01 00:00:00"
        ],
        [
         "26",
         "20027",
         "223.33358",
         "2017-01-01 00:00:00"
        ],
        [
         "27",
         "20028",
         "280.32732",
         "2017-01-01 00:00:00"
        ],
        [
         "28",
         "20029",
         "236.03158000000002",
         "2017-01-01 00:00:00"
        ],
        [
         "29",
         "20030",
         "354.354",
         "2017-01-01 00:00:00"
        ],
        [
         "30",
         "20031",
         "138.09868",
         "2017-01-01 00:00:00"
        ],
        [
         "31",
         "20033",
         "196.83573",
         "2017-01-01 00:00:00"
        ],
        [
         "32",
         "20034",
         "391.17078",
         "2017-01-01 00:00:00"
        ],
        [
         "33",
         "20035",
         "196.32423",
         "2017-01-01 00:00:00"
        ],
        [
         "34",
         "20036",
         "396.3232",
         "2017-01-01 00:00:00"
        ],
        [
         "35",
         "20037",
         "107.01826",
         "2017-01-01 00:00:00"
        ],
        [
         "36",
         "20038",
         "230.12367",
         "2017-01-01 00:00:00"
        ],
        [
         "37",
         "20039",
         "232.57636",
         "2017-01-01 00:00:00"
        ],
        [
         "38",
         "20040",
         "251.02532",
         "2017-01-01 00:00:00"
        ],
        [
         "39",
         "20041",
         "191.12626",
         "2017-01-01 00:00:00"
        ],
        [
         "40",
         "20042",
         "158.67551",
         "2017-01-01 00:00:00"
        ],
        [
         "41",
         "20043",
         "178.5289",
         "2017-01-01 00:00:00"
        ],
        [
         "42",
         "20044",
         "194.83483",
         "2017-01-01 00:00:00"
        ],
        [
         "43",
         "20045",
         "114.16856",
         "2017-01-01 00:00:00"
        ],
        [
         "44",
         "20046",
         "258.48154999999997",
         "2017-01-01 00:00:00"
        ],
        [
         "45",
         "20047",
         "180.06395",
         "2017-01-01 00:00:00"
        ],
        [
         "46",
         "20048",
         "209.69153",
         "2017-01-01 00:00:00"
        ],
        [
         "47",
         "20050",
         "155.55315",
         "2017-01-01 00:00:00"
        ],
        [
         "48",
         "20051",
         "124.07345000000001",
         "2017-01-01 00:00:00"
        ],
        [
         "49",
         "20052",
         "150.34129000000001",
         "2017-01-01 00:00:00"
        ]
       ],
       "shape": {
        "columns": 3,
        "rows": 31243
       }
      },
      "text/html": [
       "<div>\n",
       "<style scoped>\n",
       "    .dataframe tbody tr th:only-of-type {\n",
       "        vertical-align: middle;\n",
       "    }\n",
       "\n",
       "    .dataframe tbody tr th {\n",
       "        vertical-align: top;\n",
       "    }\n",
       "\n",
       "    .dataframe thead th {\n",
       "        text-align: right;\n",
       "    }\n",
       "</style>\n",
       "<table border=\"1\" class=\"dataframe\">\n",
       "  <thead>\n",
       "    <tr style=\"text-align: right;\">\n",
       "      <th></th>\n",
       "      <th>unique_id</th>\n",
       "      <th>y</th>\n",
       "      <th>ds</th>\n",
       "    </tr>\n",
       "  </thead>\n",
       "  <tbody>\n",
       "    <tr>\n",
       "      <th>0</th>\n",
       "      <td>20001</td>\n",
       "      <td>934.77222</td>\n",
       "      <td>2017-01-01</td>\n",
       "    </tr>\n",
       "    <tr>\n",
       "      <th>1</th>\n",
       "      <td>20002</td>\n",
       "      <td>550.15707</td>\n",
       "      <td>2017-01-01</td>\n",
       "    </tr>\n",
       "    <tr>\n",
       "      <th>2</th>\n",
       "      <td>20003</td>\n",
       "      <td>1063.45835</td>\n",
       "      <td>2017-01-01</td>\n",
       "    </tr>\n",
       "    <tr>\n",
       "      <th>3</th>\n",
       "      <td>20004</td>\n",
       "      <td>555.91614</td>\n",
       "      <td>2017-01-01</td>\n",
       "    </tr>\n",
       "    <tr>\n",
       "      <th>4</th>\n",
       "      <td>20005</td>\n",
       "      <td>494.27011</td>\n",
       "      <td>2017-01-01</td>\n",
       "    </tr>\n",
       "    <tr>\n",
       "      <th>...</th>\n",
       "      <td>...</td>\n",
       "      <td>...</td>\n",
       "      <td>...</td>\n",
       "    </tr>\n",
       "    <tr>\n",
       "      <th>31238</th>\n",
       "      <td>21265</td>\n",
       "      <td>0.05007</td>\n",
       "      <td>2019-12-01</td>\n",
       "    </tr>\n",
       "    <tr>\n",
       "      <th>31239</th>\n",
       "      <td>21266</td>\n",
       "      <td>0.05121</td>\n",
       "      <td>2019-12-01</td>\n",
       "    </tr>\n",
       "    <tr>\n",
       "      <th>31240</th>\n",
       "      <td>21267</td>\n",
       "      <td>0.01569</td>\n",
       "      <td>2019-12-01</td>\n",
       "    </tr>\n",
       "    <tr>\n",
       "      <th>31241</th>\n",
       "      <td>21271</td>\n",
       "      <td>0.00298</td>\n",
       "      <td>2019-12-01</td>\n",
       "    </tr>\n",
       "    <tr>\n",
       "      <th>31242</th>\n",
       "      <td>21276</td>\n",
       "      <td>0.00892</td>\n",
       "      <td>2019-12-01</td>\n",
       "    </tr>\n",
       "  </tbody>\n",
       "</table>\n",
       "<p>31243 rows × 3 columns</p>\n",
       "</div>"
      ],
      "text/plain": [
       "       unique_id           y         ds\n",
       "0          20001   934.77222 2017-01-01\n",
       "1          20002   550.15707 2017-01-01\n",
       "2          20003  1063.45835 2017-01-01\n",
       "3          20004   555.91614 2017-01-01\n",
       "4          20005   494.27011 2017-01-01\n",
       "...          ...         ...        ...\n",
       "31238      21265     0.05007 2019-12-01\n",
       "31239      21266     0.05121 2019-12-01\n",
       "31240      21267     0.01569 2019-12-01\n",
       "31241      21271     0.00298 2019-12-01\n",
       "31242      21276     0.00892 2019-12-01\n",
       "\n",
       "[31243 rows x 3 columns]"
      ]
     },
     "execution_count": 89,
     "metadata": {},
     "output_type": "execute_result"
    }
   ],
   "source": [
    "dfg['periodo_dt'] = pd.to_datetime(dfg['periodo'].astype(str), format='%Y%m')\n",
    "dfg.rename(columns={'tn': 'y', 'product_id':'unique_id', 'periodo_dt': 'ds'}, inplace=True)\n",
    "dfg.drop(columns=['periodo'], inplace=True)\n",
    "dfg"
   ]
  },
  {
   "cell_type": "code",
   "execution_count": 90,
   "id": "06c7eed5",
   "metadata": {},
   "outputs": [
    {
     "data": {
      "application/vnd.microsoft.datawrangler.viewer.v0+json": {
       "columns": [
        {
         "name": "index",
         "rawType": "int64",
         "type": "integer"
        },
        {
         "name": "product_id",
         "rawType": "int64",
         "type": "integer"
        }
       ],
       "ref": "1a4f6feb-02ac-47b3-9ef3-95a7c36c4ca1",
       "rows": [
        [
         "0",
         "20001"
        ],
        [
         "1",
         "20002"
        ],
        [
         "2",
         "20003"
        ],
        [
         "3",
         "20004"
        ],
        [
         "4",
         "20005"
        ]
       ],
       "shape": {
        "columns": 1,
        "rows": 5
       }
      },
      "text/html": [
       "<div>\n",
       "<style scoped>\n",
       "    .dataframe tbody tr th:only-of-type {\n",
       "        vertical-align: middle;\n",
       "    }\n",
       "\n",
       "    .dataframe tbody tr th {\n",
       "        vertical-align: top;\n",
       "    }\n",
       "\n",
       "    .dataframe thead th {\n",
       "        text-align: right;\n",
       "    }\n",
       "</style>\n",
       "<table border=\"1\" class=\"dataframe\">\n",
       "  <thead>\n",
       "    <tr style=\"text-align: right;\">\n",
       "      <th></th>\n",
       "      <th>product_id</th>\n",
       "    </tr>\n",
       "  </thead>\n",
       "  <tbody>\n",
       "    <tr>\n",
       "      <th>0</th>\n",
       "      <td>20001</td>\n",
       "    </tr>\n",
       "    <tr>\n",
       "      <th>1</th>\n",
       "      <td>20002</td>\n",
       "    </tr>\n",
       "    <tr>\n",
       "      <th>2</th>\n",
       "      <td>20003</td>\n",
       "    </tr>\n",
       "    <tr>\n",
       "      <th>3</th>\n",
       "      <td>20004</td>\n",
       "    </tr>\n",
       "    <tr>\n",
       "      <th>4</th>\n",
       "      <td>20005</td>\n",
       "    </tr>\n",
       "  </tbody>\n",
       "</table>\n",
       "</div>"
      ],
      "text/plain": [
       "   product_id\n",
       "0       20001\n",
       "1       20002\n",
       "2       20003\n",
       "3       20004\n",
       "4       20005"
      ]
     },
     "execution_count": 90,
     "metadata": {},
     "output_type": "execute_result"
    }
   ],
   "source": [
    "productos_ok = pd.read_csv('../../data/raw/product_id_apredecir201912.csv', sep=',')\n",
    "productos_ok.head()"
   ]
  },
  {
   "cell_type": "code",
   "execution_count": 91,
   "id": "28d20374",
   "metadata": {},
   "outputs": [],
   "source": [
    "dfg = dfg[dfg['unique_id'].isin(productos_ok['product_id'].unique())]"
   ]
  },
  {
   "cell_type": "code",
   "execution_count": 92,
   "id": "bbb9dd4c",
   "metadata": {},
   "outputs": [],
   "source": [
    "def get_productos_12_meses():\n",
    "    df = pd.read_csv('../../data/raw/sell-in.csv', sep='\\t')  # Cargar el dataset\n",
    "    df = df.groupby(['periodo', 'product_id']).agg({'tn': 'sum'}).reset_index()  # Agrupar por periodo y producto\n",
    "\n",
    "    # Paso 1: calcular la cantidad de registros por product_id\n",
    "    conteo = df.groupby('product_id').size()\n",
    "\n",
    "    # Paso 2: quedarte solo con los que tienen 36 registros\n",
    "    productos_12_meses = conteo[conteo >= 36].index.tolist()\n",
    "\n",
    "    \n",
    "\n",
    "    return productos_12_meses\n",
    "\n",
    "productos_12_meses = get_productos_12_meses()\n",
    "dfg = dfg[dfg['unique_id'].isin(productos_12_meses)]"
   ]
  },
  {
   "cell_type": "code",
   "execution_count": 93,
   "id": "0e5ce1fa",
   "metadata": {},
   "outputs": [],
   "source": [
    "dfg = dfg.sort_values(['unique_id', 'ds'])"
   ]
  },
  {
   "cell_type": "code",
   "execution_count": null,
   "id": "9e401b65",
   "metadata": {},
   "outputs": [],
   "source": []
  },
  {
   "cell_type": "code",
   "execution_count": 94,
   "id": "5fea362a",
   "metadata": {},
   "outputs": [],
   "source": [
    "H = 2  # Horizonte de predicción: mes +2\n",
    "\n",
    "fcst = MLForecast(\n",
    "    models = [LGBMRegressor()],\n",
    "    freq = 'MS',\n",
    "    lags = [1, 2, 3],\n",
    "    # lag_transforms = {\n",
    "    #     #1: [np.log1p],\n",
    "    #     1: ['mean'],\n",
    "    #     3: ['std']\n",
    "    # },\n",
    "    date_features = ['month']\n",
    ")\n"
   ]
  },
  {
   "cell_type": "code",
   "execution_count": 95,
   "id": "bbe49bef",
   "metadata": {},
   "outputs": [
    {
     "data": {
      "application/vnd.microsoft.datawrangler.viewer.v0+json": {
       "columns": [
        {
         "name": "index",
         "rawType": "int64",
         "type": "integer"
        },
        {
         "name": "unique_id",
         "rawType": "int64",
         "type": "integer"
        },
        {
         "name": "ds",
         "rawType": "datetime64[ns]",
         "type": "datetime"
        },
        {
         "name": "y",
         "rawType": "float64",
         "type": "float"
        }
       ],
       "ref": "2720fc03-359a-4e5c-b1e1-40dca1976b44",
       "rows": [
        [
         "0",
         "20001",
         "2017-01-01 00:00:00",
         "934.77222"
        ],
        [
         "785",
         "20001",
         "2017-02-01 00:00:00",
         "798.0162"
        ],
        [
         "1566",
         "20001",
         "2017-03-01 00:00:00",
         "1303.35771"
        ],
        [
         "2352",
         "20001",
         "2017-04-01 00:00:00",
         "1069.9613"
        ],
        [
         "3136",
         "20001",
         "2017-05-01 00:00:00",
         "1502.2013200000001"
        ],
        [
         "3942",
         "20001",
         "2017-06-01 00:00:00",
         "1520.06539"
        ],
        [
         "4765",
         "20001",
         "2017-07-01 00:00:00",
         "1030.67391"
        ],
        [
         "5591",
         "20001",
         "2017-08-01 00:00:00",
         "1267.39462"
        ],
        [
         "6438",
         "20001",
         "2017-09-01 00:00:00",
         "1316.94604"
        ],
        [
         "7267",
         "20001",
         "2017-10-01 00:00:00",
         "1439.75563"
        ],
        [
         "8116",
         "20001",
         "2017-11-01 00:00:00",
         "1580.47401"
        ],
        [
         "8976",
         "20001",
         "2017-12-01 00:00:00",
         "1049.3886"
        ],
        [
         "9832",
         "20001",
         "2018-01-01 00:00:00",
         "1169.07532"
        ],
        [
         "10686",
         "20001",
         "2018-02-01 00:00:00",
         "1043.7647"
        ],
        [
         "11534",
         "20001",
         "2018-03-01 00:00:00",
         "1856.83534"
        ],
        [
         "12387",
         "20001",
         "2018-04-01 00:00:00",
         "1251.28462"
        ],
        [
         "13241",
         "20001",
         "2018-05-01 00:00:00",
         "1293.89788"
        ],
        [
         "14105",
         "20001",
         "2018-06-01 00:00:00",
         "1150.79169"
        ],
        [
         "14956",
         "20001",
         "2018-07-01 00:00:00",
         "1470.4100899999999"
        ],
        [
         "15802",
         "20001",
         "2018-08-01 00:00:00",
         "1800.96168"
        ],
        [
         "16650",
         "20001",
         "2018-09-01 00:00:00",
         "1438.67455"
        ],
        [
         "17525",
         "20001",
         "2018-10-01 00:00:00",
         "2295.19832"
        ],
        [
         "18422",
         "20001",
         "2018-11-01 00:00:00",
         "1813.01511"
        ],
        [
         "19320",
         "20001",
         "2018-12-01 00:00:00",
         "1486.68669"
        ],
        [
         "20212",
         "20001",
         "2019-01-01 00:00:00",
         "1275.77351"
        ],
        [
         "21099",
         "20001",
         "2019-02-01 00:00:00",
         "1259.09363"
        ],
        [
         "21993",
         "20001",
         "2019-03-01 00:00:00",
         "1470.65653"
        ],
        [
         "22888",
         "20001",
         "2019-04-01 00:00:00",
         "1647.6384799999998"
        ],
        [
         "23807",
         "20001",
         "2019-05-01 00:00:00",
         "1629.78233"
        ],
        [
         "24718",
         "20001",
         "2019-06-01 00:00:00",
         "1109.93769"
        ],
        [
         "25634",
         "20001",
         "2019-07-01 00:00:00",
         "1678.99318"
        ],
        [
         "26566",
         "20001",
         "2019-08-01 00:00:00",
         "1261.34529"
        ],
        [
         "27495",
         "20001",
         "2019-09-01 00:00:00",
         "1660.00561"
        ],
        [
         "28425",
         "20001",
         "2019-10-01 00:00:00",
         "1561.50552"
        ],
        [
         "29377",
         "20001",
         "2019-11-01 00:00:00",
         "1397.37231"
        ],
        [
         "30316",
         "20001",
         "2019-12-01 00:00:00",
         "1504.68856"
        ],
        [
         "1",
         "20002",
         "2017-01-01 00:00:00",
         "550.15707"
        ],
        [
         "786",
         "20002",
         "2017-02-01 00:00:00",
         "505.88633"
        ],
        [
         "1567",
         "20002",
         "2017-03-01 00:00:00",
         "834.73521"
        ],
        [
         "2353",
         "20002",
         "2017-04-01 00:00:00",
         "522.35365"
        ],
        [
         "3137",
         "20002",
         "2017-05-01 00:00:00",
         "843.43785"
        ],
        [
         "3943",
         "20002",
         "2017-06-01 00:00:00",
         "968.15756"
        ],
        [
         "4766",
         "20002",
         "2017-07-01 00:00:00",
         "845.39319"
        ],
        [
         "5592",
         "20002",
         "2017-08-01 00:00:00",
         "619.71078"
        ],
        [
         "6439",
         "20002",
         "2017-09-01 00:00:00",
         "1065.34529"
        ],
        [
         "7268",
         "20002",
         "2017-10-01 00:00:00",
         "857.45269"
        ],
        [
         "8117",
         "20002",
         "2017-11-01 00:00:00",
         "750.41853"
        ],
        [
         "8977",
         "20002",
         "2017-12-01 00:00:00",
         "820.58984"
        ],
        [
         "9833",
         "20002",
         "2018-01-01 00:00:00",
         "984.80167"
        ],
        [
         "10687",
         "20002",
         "2018-02-01 00:00:00",
         "712.00087"
        ]
       ],
       "shape": {
        "columns": 3,
        "rows": 17208
       }
      },
      "text/html": [
       "<div>\n",
       "<style scoped>\n",
       "    .dataframe tbody tr th:only-of-type {\n",
       "        vertical-align: middle;\n",
       "    }\n",
       "\n",
       "    .dataframe tbody tr th {\n",
       "        vertical-align: top;\n",
       "    }\n",
       "\n",
       "    .dataframe thead th {\n",
       "        text-align: right;\n",
       "    }\n",
       "</style>\n",
       "<table border=\"1\" class=\"dataframe\">\n",
       "  <thead>\n",
       "    <tr style=\"text-align: right;\">\n",
       "      <th></th>\n",
       "      <th>unique_id</th>\n",
       "      <th>ds</th>\n",
       "      <th>y</th>\n",
       "    </tr>\n",
       "  </thead>\n",
       "  <tbody>\n",
       "    <tr>\n",
       "      <th>0</th>\n",
       "      <td>20001</td>\n",
       "      <td>2017-01-01</td>\n",
       "      <td>934.77222</td>\n",
       "    </tr>\n",
       "    <tr>\n",
       "      <th>785</th>\n",
       "      <td>20001</td>\n",
       "      <td>2017-02-01</td>\n",
       "      <td>798.01620</td>\n",
       "    </tr>\n",
       "    <tr>\n",
       "      <th>1566</th>\n",
       "      <td>20001</td>\n",
       "      <td>2017-03-01</td>\n",
       "      <td>1303.35771</td>\n",
       "    </tr>\n",
       "    <tr>\n",
       "      <th>2352</th>\n",
       "      <td>20001</td>\n",
       "      <td>2017-04-01</td>\n",
       "      <td>1069.96130</td>\n",
       "    </tr>\n",
       "    <tr>\n",
       "      <th>3136</th>\n",
       "      <td>20001</td>\n",
       "      <td>2017-05-01</td>\n",
       "      <td>1502.20132</td>\n",
       "    </tr>\n",
       "    <tr>\n",
       "      <th>...</th>\n",
       "      <td>...</td>\n",
       "      <td>...</td>\n",
       "      <td>...</td>\n",
       "    </tr>\n",
       "    <tr>\n",
       "      <th>27468</th>\n",
       "      <td>21222</td>\n",
       "      <td>2019-08-01</td>\n",
       "      <td>0.04442</td>\n",
       "    </tr>\n",
       "    <tr>\n",
       "      <th>28400</th>\n",
       "      <td>21222</td>\n",
       "      <td>2019-09-01</td>\n",
       "      <td>0.08373</td>\n",
       "    </tr>\n",
       "    <tr>\n",
       "      <th>29347</th>\n",
       "      <td>21222</td>\n",
       "      <td>2019-10-01</td>\n",
       "      <td>0.06699</td>\n",
       "    </tr>\n",
       "    <tr>\n",
       "      <th>30287</th>\n",
       "      <td>21222</td>\n",
       "      <td>2019-11-01</td>\n",
       "      <td>0.02766</td>\n",
       "    </tr>\n",
       "    <tr>\n",
       "      <th>31215</th>\n",
       "      <td>21222</td>\n",
       "      <td>2019-12-01</td>\n",
       "      <td>0.02184</td>\n",
       "    </tr>\n",
       "  </tbody>\n",
       "</table>\n",
       "<p>17208 rows × 3 columns</p>\n",
       "</div>"
      ],
      "text/plain": [
       "       unique_id         ds           y\n",
       "0          20001 2017-01-01   934.77222\n",
       "785        20001 2017-02-01   798.01620\n",
       "1566       20001 2017-03-01  1303.35771\n",
       "2352       20001 2017-04-01  1069.96130\n",
       "3136       20001 2017-05-01  1502.20132\n",
       "...          ...        ...         ...\n",
       "27468      21222 2019-08-01     0.04442\n",
       "28400      21222 2019-09-01     0.08373\n",
       "29347      21222 2019-10-01     0.06699\n",
       "30287      21222 2019-11-01     0.02766\n",
       "31215      21222 2019-12-01     0.02184\n",
       "\n",
       "[17208 rows x 3 columns]"
      ]
     },
     "execution_count": 95,
     "metadata": {},
     "output_type": "execute_result"
    }
   ],
   "source": [
    "df = dfg.copy()\n",
    "df = df[['unique_id', 'ds', 'y']].copy()\n",
    "df\n"
   ]
  },
  {
   "cell_type": "code",
   "execution_count": 96,
   "id": "4428e6c1",
   "metadata": {},
   "outputs": [],
   "source": [
    "df.fillna(0, inplace=True)"
   ]
  },
  {
   "cell_type": "code",
   "execution_count": 97,
   "id": "ad75127d",
   "metadata": {},
   "outputs": [
    {
     "data": {
      "application/vnd.microsoft.datawrangler.viewer.v0+json": {
       "columns": [
        {
         "name": "index",
         "rawType": "int64",
         "type": "integer"
        },
        {
         "name": "unique_id",
         "rawType": "int64",
         "type": "integer"
        },
        {
         "name": "ds",
         "rawType": "datetime64[ns]",
         "type": "datetime"
        },
        {
         "name": "y",
         "rawType": "float64",
         "type": "float"
        }
       ],
       "ref": "438a3fd4-51cf-434e-b10e-55865d0c1558",
       "rows": [
        [
         "0",
         "20001",
         "2017-01-01 00:00:00",
         "934.77222"
        ],
        [
         "785",
         "20001",
         "2017-02-01 00:00:00",
         "798.0162"
        ],
        [
         "1566",
         "20001",
         "2017-03-01 00:00:00",
         "1303.35771"
        ],
        [
         "2352",
         "20001",
         "2017-04-01 00:00:00",
         "1069.9613"
        ],
        [
         "3136",
         "20001",
         "2017-05-01 00:00:00",
         "1502.2013200000001"
        ],
        [
         "3942",
         "20001",
         "2017-06-01 00:00:00",
         "1520.06539"
        ],
        [
         "4765",
         "20001",
         "2017-07-01 00:00:00",
         "1030.67391"
        ],
        [
         "5591",
         "20001",
         "2017-08-01 00:00:00",
         "1267.39462"
        ],
        [
         "6438",
         "20001",
         "2017-09-01 00:00:00",
         "1316.94604"
        ],
        [
         "7267",
         "20001",
         "2017-10-01 00:00:00",
         "1439.75563"
        ],
        [
         "8116",
         "20001",
         "2017-11-01 00:00:00",
         "1580.47401"
        ],
        [
         "8976",
         "20001",
         "2017-12-01 00:00:00",
         "1049.3886"
        ],
        [
         "9832",
         "20001",
         "2018-01-01 00:00:00",
         "1169.07532"
        ],
        [
         "10686",
         "20001",
         "2018-02-01 00:00:00",
         "1043.7647"
        ],
        [
         "11534",
         "20001",
         "2018-03-01 00:00:00",
         "1856.83534"
        ],
        [
         "12387",
         "20001",
         "2018-04-01 00:00:00",
         "1251.28462"
        ],
        [
         "13241",
         "20001",
         "2018-05-01 00:00:00",
         "1293.89788"
        ],
        [
         "14105",
         "20001",
         "2018-06-01 00:00:00",
         "1150.79169"
        ],
        [
         "14956",
         "20001",
         "2018-07-01 00:00:00",
         "1470.4100899999999"
        ],
        [
         "15802",
         "20001",
         "2018-08-01 00:00:00",
         "1800.96168"
        ],
        [
         "16650",
         "20001",
         "2018-09-01 00:00:00",
         "1438.67455"
        ],
        [
         "17525",
         "20001",
         "2018-10-01 00:00:00",
         "2295.19832"
        ],
        [
         "18422",
         "20001",
         "2018-11-01 00:00:00",
         "1813.01511"
        ],
        [
         "19320",
         "20001",
         "2018-12-01 00:00:00",
         "1486.68669"
        ],
        [
         "20212",
         "20001",
         "2019-01-01 00:00:00",
         "1275.77351"
        ],
        [
         "21099",
         "20001",
         "2019-02-01 00:00:00",
         "1259.09363"
        ],
        [
         "21993",
         "20001",
         "2019-03-01 00:00:00",
         "1470.65653"
        ],
        [
         "22888",
         "20001",
         "2019-04-01 00:00:00",
         "1647.6384799999998"
        ],
        [
         "23807",
         "20001",
         "2019-05-01 00:00:00",
         "1629.78233"
        ],
        [
         "24718",
         "20001",
         "2019-06-01 00:00:00",
         "1109.93769"
        ],
        [
         "25634",
         "20001",
         "2019-07-01 00:00:00",
         "1678.99318"
        ],
        [
         "26566",
         "20001",
         "2019-08-01 00:00:00",
         "1261.34529"
        ],
        [
         "27495",
         "20001",
         "2019-09-01 00:00:00",
         "1660.00561"
        ],
        [
         "28425",
         "20001",
         "2019-10-01 00:00:00",
         "1561.50552"
        ],
        [
         "29377",
         "20001",
         "2019-11-01 00:00:00",
         "1397.37231"
        ],
        [
         "30316",
         "20001",
         "2019-12-01 00:00:00",
         "1504.68856"
        ],
        [
         "1",
         "20002",
         "2017-01-01 00:00:00",
         "550.15707"
        ],
        [
         "786",
         "20002",
         "2017-02-01 00:00:00",
         "505.88633"
        ],
        [
         "1567",
         "20002",
         "2017-03-01 00:00:00",
         "834.73521"
        ],
        [
         "2353",
         "20002",
         "2017-04-01 00:00:00",
         "522.35365"
        ],
        [
         "3137",
         "20002",
         "2017-05-01 00:00:00",
         "843.43785"
        ],
        [
         "3943",
         "20002",
         "2017-06-01 00:00:00",
         "968.15756"
        ],
        [
         "4766",
         "20002",
         "2017-07-01 00:00:00",
         "845.39319"
        ],
        [
         "5592",
         "20002",
         "2017-08-01 00:00:00",
         "619.71078"
        ],
        [
         "6439",
         "20002",
         "2017-09-01 00:00:00",
         "1065.34529"
        ],
        [
         "7268",
         "20002",
         "2017-10-01 00:00:00",
         "857.45269"
        ],
        [
         "8117",
         "20002",
         "2017-11-01 00:00:00",
         "750.41853"
        ],
        [
         "8977",
         "20002",
         "2017-12-01 00:00:00",
         "820.58984"
        ],
        [
         "9833",
         "20002",
         "2018-01-01 00:00:00",
         "984.80167"
        ],
        [
         "10687",
         "20002",
         "2018-02-01 00:00:00",
         "712.00087"
        ]
       ],
       "shape": {
        "columns": 3,
        "rows": 17208
       }
      },
      "text/html": [
       "<div>\n",
       "<style scoped>\n",
       "    .dataframe tbody tr th:only-of-type {\n",
       "        vertical-align: middle;\n",
       "    }\n",
       "\n",
       "    .dataframe tbody tr th {\n",
       "        vertical-align: top;\n",
       "    }\n",
       "\n",
       "    .dataframe thead th {\n",
       "        text-align: right;\n",
       "    }\n",
       "</style>\n",
       "<table border=\"1\" class=\"dataframe\">\n",
       "  <thead>\n",
       "    <tr style=\"text-align: right;\">\n",
       "      <th></th>\n",
       "      <th>unique_id</th>\n",
       "      <th>ds</th>\n",
       "      <th>y</th>\n",
       "    </tr>\n",
       "  </thead>\n",
       "  <tbody>\n",
       "    <tr>\n",
       "      <th>0</th>\n",
       "      <td>20001</td>\n",
       "      <td>2017-01-01</td>\n",
       "      <td>934.77222</td>\n",
       "    </tr>\n",
       "    <tr>\n",
       "      <th>785</th>\n",
       "      <td>20001</td>\n",
       "      <td>2017-02-01</td>\n",
       "      <td>798.01620</td>\n",
       "    </tr>\n",
       "    <tr>\n",
       "      <th>1566</th>\n",
       "      <td>20001</td>\n",
       "      <td>2017-03-01</td>\n",
       "      <td>1303.35771</td>\n",
       "    </tr>\n",
       "    <tr>\n",
       "      <th>2352</th>\n",
       "      <td>20001</td>\n",
       "      <td>2017-04-01</td>\n",
       "      <td>1069.96130</td>\n",
       "    </tr>\n",
       "    <tr>\n",
       "      <th>3136</th>\n",
       "      <td>20001</td>\n",
       "      <td>2017-05-01</td>\n",
       "      <td>1502.20132</td>\n",
       "    </tr>\n",
       "    <tr>\n",
       "      <th>...</th>\n",
       "      <td>...</td>\n",
       "      <td>...</td>\n",
       "      <td>...</td>\n",
       "    </tr>\n",
       "    <tr>\n",
       "      <th>27468</th>\n",
       "      <td>21222</td>\n",
       "      <td>2019-08-01</td>\n",
       "      <td>0.04442</td>\n",
       "    </tr>\n",
       "    <tr>\n",
       "      <th>28400</th>\n",
       "      <td>21222</td>\n",
       "      <td>2019-09-01</td>\n",
       "      <td>0.08373</td>\n",
       "    </tr>\n",
       "    <tr>\n",
       "      <th>29347</th>\n",
       "      <td>21222</td>\n",
       "      <td>2019-10-01</td>\n",
       "      <td>0.06699</td>\n",
       "    </tr>\n",
       "    <tr>\n",
       "      <th>30287</th>\n",
       "      <td>21222</td>\n",
       "      <td>2019-11-01</td>\n",
       "      <td>0.02766</td>\n",
       "    </tr>\n",
       "    <tr>\n",
       "      <th>31215</th>\n",
       "      <td>21222</td>\n",
       "      <td>2019-12-01</td>\n",
       "      <td>0.02184</td>\n",
       "    </tr>\n",
       "  </tbody>\n",
       "</table>\n",
       "<p>17208 rows × 3 columns</p>\n",
       "</div>"
      ],
      "text/plain": [
       "       unique_id         ds           y\n",
       "0          20001 2017-01-01   934.77222\n",
       "785        20001 2017-02-01   798.01620\n",
       "1566       20001 2017-03-01  1303.35771\n",
       "2352       20001 2017-04-01  1069.96130\n",
       "3136       20001 2017-05-01  1502.20132\n",
       "...          ...        ...         ...\n",
       "27468      21222 2019-08-01     0.04442\n",
       "28400      21222 2019-09-01     0.08373\n",
       "29347      21222 2019-10-01     0.06699\n",
       "30287      21222 2019-11-01     0.02766\n",
       "31215      21222 2019-12-01     0.02184\n",
       "\n",
       "[17208 rows x 3 columns]"
      ]
     },
     "execution_count": 97,
     "metadata": {},
     "output_type": "execute_result"
    }
   ],
   "source": [
    "df"
   ]
  },
  {
   "cell_type": "code",
   "execution_count": 98,
   "id": "dda0c92f",
   "metadata": {},
   "outputs": [
    {
     "name": "stdout",
     "output_type": "stream",
     "text": [
      "=== DIAGNÓSTICO DEL DATASET ===\n",
      "Total de series únicas: 478\n",
      "Rango de fechas en df: 2017-01-01 00:00:00 a 2019-12-01 00:00:00\n",
      "\n",
      "Distribución de últimas fechas por serie:\n",
      "ds\n",
      "2019-12-01    478\n",
      "Name: count, dtype: int64\n",
      "\n",
      "Series que llegan hasta 2019-12-01 00:00:00: 478\n",
      "Series que NO llegan hasta el final: 0\n",
      "\n",
      "=== Fold 1 ===\n",
      "Fechas entrenamiento: 2017-01-01 00:00:00 a 2017-06-01 00:00:00\n",
      "Fechas validación: 2017-07-01 00:00:00 a 2017-12-01 00:00:00\n",
      "Series en entrenamiento: 478\n",
      "Series en validación: 478\n",
      "Series completas en entrenamiento (hasta 2017-06-01 00:00:00): 478\n",
      "[LightGBM] [Info] Auto-choosing col-wise multi-threading, the overhead of testing was 0,010675 seconds.\n",
      "You can set `force_col_wise=true` to remove the overhead.\n",
      "[LightGBM] [Info] Total Bins 769\n",
      "[LightGBM] [Info] Number of data points in the train set: 1434, number of used features: 4\n",
      "[LightGBM] [Info] Start training from score 70,767130\n",
      "Predicciones generadas: 956\n",
      "Series con predicciones: 478\n",
      "Distribución de últimas fechas en entrenamiento:\n",
      "ds\n",
      "2017-06-01    478\n",
      "Name: count, dtype: int64\n",
      "Ejemplo de fechas objetivo:\n",
      "  last_train_date target_date\n",
      "0      2017-06-01  2017-08-01\n",
      "1      2017-06-01  2017-08-01\n",
      "2      2017-06-01  2017-08-01\n",
      "Ejemplo de fechas predichas:\n",
      "Serie 20001: [Timestamp('2017-07-01 00:00:00'), Timestamp('2017-08-01 00:00:00')]\n",
      "Predicciones mes+2 extraídas: 478\n",
      "Predicciones que coinciden con fecha objetivo: 478\n",
      "Predicciones mes+2 finales: 478\n",
      "Coincidencias para evaluación: 478\n",
      "RMSE (mes+2): 57.7103\n",
      "Usando columna de predicción: LGBMRegressor\n",
      "\n",
      "=== Fold 2 ===\n",
      "Fechas entrenamiento: 2017-01-01 00:00:00 a 2017-12-01 00:00:00\n",
      "Fechas validación: 2018-01-01 00:00:00 a 2018-06-01 00:00:00\n",
      "Series en entrenamiento: 478\n",
      "Series en validación: 478\n",
      "Series completas en entrenamiento (hasta 2017-12-01 00:00:00): 478\n",
      "[LightGBM] [Info] Auto-choosing col-wise multi-threading, the overhead of testing was 0,000357 seconds.\n",
      "You can set `force_col_wise=true` to remove the overhead.\n",
      "[LightGBM] [Info] Total Bins 775\n",
      "[LightGBM] [Info] Number of data points in the train set: 4302, number of used features: 4\n",
      "[LightGBM] [Info] Start training from score 70,864612\n",
      "Predicciones generadas: 956\n",
      "Series con predicciones: 478\n",
      "Distribución de últimas fechas en entrenamiento:\n",
      "ds\n",
      "2017-12-01    478\n",
      "Name: count, dtype: int64\n",
      "Ejemplo de fechas objetivo:\n",
      "  last_train_date target_date\n",
      "0      2017-12-01  2018-02-01\n",
      "1      2017-12-01  2018-02-01\n",
      "2      2017-12-01  2018-02-01\n",
      "Ejemplo de fechas predichas:\n",
      "Serie 20001: [Timestamp('2018-01-01 00:00:00'), Timestamp('2018-02-01 00:00:00')]\n",
      "Predicciones mes+2 extraídas: 478\n",
      "Predicciones que coinciden con fecha objetivo: 478\n",
      "Predicciones mes+2 finales: 478\n",
      "Coincidencias para evaluación: 478\n",
      "RMSE (mes+2): 41.8184\n",
      "Usando columna de predicción: LGBMRegressor\n",
      "\n",
      "=== Fold 3 ===\n",
      "Fechas entrenamiento: 2017-01-01 00:00:00 a 2018-06-01 00:00:00\n",
      "Fechas validación: 2018-07-01 00:00:00 a 2018-12-01 00:00:00\n",
      "Series en entrenamiento: 478\n",
      "Series en validación: 478\n",
      "Series completas en entrenamiento (hasta 2018-06-01 00:00:00): 478\n",
      "[LightGBM] [Info] Auto-choosing col-wise multi-threading, the overhead of testing was 0,000434 seconds.\n",
      "You can set `force_col_wise=true` to remove the overhead.\n",
      "[LightGBM] [Info] Total Bins 778\n",
      "[LightGBM] [Info] Number of data points in the train set: 7170, number of used features: 4\n",
      "[LightGBM] [Info] Start training from score 67,410241\n",
      "Predicciones generadas: 956\n",
      "Series con predicciones: 478\n",
      "Distribución de últimas fechas en entrenamiento:\n",
      "ds\n",
      "2018-06-01    478\n",
      "Name: count, dtype: int64\n",
      "Ejemplo de fechas objetivo:\n",
      "  last_train_date target_date\n",
      "0      2018-06-01  2018-08-01\n",
      "1      2018-06-01  2018-08-01\n",
      "2      2018-06-01  2018-08-01\n",
      "Ejemplo de fechas predichas:\n",
      "Serie 20001: [Timestamp('2018-07-01 00:00:00'), Timestamp('2018-08-01 00:00:00')]\n",
      "Predicciones mes+2 extraídas: 478\n",
      "Predicciones que coinciden con fecha objetivo: 478\n",
      "Predicciones mes+2 finales: 478\n",
      "Coincidencias para evaluación: 478\n",
      "RMSE (mes+2): 52.5098\n",
      "Usando columna de predicción: LGBMRegressor\n",
      "\n",
      "=== Fold 4 ===\n",
      "Fechas entrenamiento: 2017-01-01 00:00:00 a 2018-12-01 00:00:00\n",
      "Fechas validación: 2019-01-01 00:00:00 a 2019-06-01 00:00:00\n",
      "Series en entrenamiento: 478\n",
      "Series en validación: 478\n",
      "Series completas en entrenamiento (hasta 2018-12-01 00:00:00): 478\n",
      "[LightGBM] [Info] Auto-choosing col-wise multi-threading, the overhead of testing was 0,000516 seconds.\n",
      "You can set `force_col_wise=true` to remove the overhead.\n",
      "[LightGBM] [Info] Total Bins 778\n",
      "[LightGBM] [Info] Number of data points in the train set: 10038, number of used features: 4\n",
      "[LightGBM] [Info] Start training from score 64,188016\n",
      "Predicciones generadas: 956\n",
      "Series con predicciones: 478\n",
      "Distribución de últimas fechas en entrenamiento:\n",
      "ds\n",
      "2018-12-01    478\n",
      "Name: count, dtype: int64\n",
      "Ejemplo de fechas objetivo:\n",
      "  last_train_date target_date\n",
      "0      2018-12-01  2019-02-01\n",
      "1      2018-12-01  2019-02-01\n",
      "2      2018-12-01  2019-02-01\n",
      "Ejemplo de fechas predichas:\n",
      "Serie 20001: [Timestamp('2019-01-01 00:00:00'), Timestamp('2019-02-01 00:00:00')]\n",
      "Predicciones mes+2 extraídas: 478\n",
      "Predicciones que coinciden con fecha objetivo: 478\n",
      "Predicciones mes+2 finales: 478\n",
      "Coincidencias para evaluación: 478\n",
      "RMSE (mes+2): 27.0785\n",
      "Usando columna de predicción: LGBMRegressor\n",
      "\n",
      "=== Fold 5 ===\n",
      "Fechas entrenamiento: 2017-01-01 00:00:00 a 2019-06-01 00:00:00\n",
      "Fechas validación: 2019-07-01 00:00:00 a 2019-12-01 00:00:00\n",
      "Series en entrenamiento: 478\n",
      "Series en validación: 478\n",
      "Series completas en entrenamiento (hasta 2019-06-01 00:00:00): 478\n",
      "[LightGBM] [Info] Auto-choosing col-wise multi-threading, the overhead of testing was 0,013352 seconds.\n",
      "You can set `force_col_wise=true` to remove the overhead.\n",
      "[LightGBM] [Info] Total Bins 778\n",
      "[LightGBM] [Info] Number of data points in the train set: 12906, number of used features: 4\n",
      "[LightGBM] [Info] Start training from score 62,090228\n",
      "Predicciones generadas: 956\n",
      "Series con predicciones: 478\n",
      "Distribución de últimas fechas en entrenamiento:\n",
      "ds\n",
      "2019-06-01    478\n",
      "Name: count, dtype: int64\n",
      "Ejemplo de fechas objetivo:\n",
      "  last_train_date target_date\n",
      "0      2019-06-01  2019-08-01\n",
      "1      2019-06-01  2019-08-01\n",
      "2      2019-06-01  2019-08-01\n",
      "Ejemplo de fechas predichas:\n",
      "Serie 20001: [Timestamp('2019-07-01 00:00:00'), Timestamp('2019-08-01 00:00:00')]\n",
      "Predicciones mes+2 extraídas: 478\n",
      "Predicciones que coinciden con fecha objetivo: 478\n",
      "Predicciones mes+2 finales: 478\n",
      "Coincidencias para evaluación: 478\n",
      "RMSE (mes+2): 51.4860\n",
      "Usando columna de predicción: LGBMRegressor\n",
      "\n",
      "=== RESULTADOS FINALES ===\n",
      "RMSE promedio (mes+2): 46.1206\n",
      "Desviación estándar RMSE: 10.8171\n",
      "Folds válidos: 5/5\n",
      "Rango RMSE: 27.0785 - 57.7103\n"
     ]
    }
   ],
   "source": [
    "import pandas as pd\n",
    "import numpy as np\n",
    "from sklearn.model_selection import TimeSeriesSplit\n",
    "from sklearn.metrics import mean_squared_error\n",
    "\n",
    "# Diagnóstico inicial del dataset\n",
    "print(\"=== DIAGNÓSTICO DEL DATASET ===\")\n",
    "print(f\"Total de series únicas: {df['unique_id'].nunique()}\")\n",
    "print(f\"Rango de fechas en df: {df['ds'].min()} a {df['ds'].max()}\")\n",
    "\n",
    "# Verificar la última fecha por serie\n",
    "last_dates_per_series = df.groupby('unique_id')['ds'].max().reset_index()\n",
    "print(f\"\\nDistribución de últimas fechas por serie:\")\n",
    "print(last_dates_per_series['ds'].value_counts().sort_index().tail(10))\n",
    "\n",
    "# Identificar series que no llegan hasta el final\n",
    "max_date_in_data = df['ds'].max()\n",
    "series_with_max_date = last_dates_per_series[last_dates_per_series['ds'] == max_date_in_data]\n",
    "print(f\"\\nSeries que llegan hasta {max_date_in_data}: {len(series_with_max_date)}\")\n",
    "print(f\"Series que NO llegan hasta el final: {len(last_dates_per_series) - len(series_with_max_date)}\")\n",
    "\n",
    "# H = 2 porque queremos predecir 2 meses hacia adelante para llegar al mes+2\n",
    "H = 2\n",
    "\n",
    "unique_dates = df['ds'].sort_values().unique()\n",
    "tscv = TimeSeriesSplit(n_splits=5)\n",
    "errors = []\n",
    "\n",
    "for fold, (train_idx, val_idx) in enumerate(tscv.split(unique_dates)):\n",
    "    print(f\"\\n=== Fold {fold+1} ===\")\n",
    "    \n",
    "    train_dates = unique_dates[train_idx]\n",
    "    val_dates = unique_dates[val_idx]\n",
    "    \n",
    "    # Crear conjuntos de entrenamiento y validación\n",
    "    df_train = df[df['ds'].isin(train_dates)].copy()\n",
    "    df_val = df[df['ds'].isin(val_dates)].copy()\n",
    "    \n",
    "    print(f\"Fechas entrenamiento: {train_dates.min()} a {train_dates.max()}\")\n",
    "    print(f\"Fechas validación: {val_dates.min()} a {val_dates.max()}\")\n",
    "    print(f\"Series en entrenamiento: {df_train['unique_id'].nunique()}\")\n",
    "    print(f\"Series en validación: {df_val['unique_id'].nunique()}\")\n",
    "    \n",
    "    # Verificar cuántas series llegan hasta el final del periodo de entrenamiento\n",
    "    max_train_date = train_dates.max()\n",
    "    last_dates_train = df_train.groupby('unique_id')['ds'].max().reset_index()\n",
    "    series_complete_train = last_dates_train[last_dates_train['ds'] == max_train_date]\n",
    "    \n",
    "    print(f\"Series completas en entrenamiento (hasta {max_train_date}): {len(series_complete_train)}\")\n",
    "    \n",
    "    # Entrenar el modelo\n",
    "    fcst.fit(df_train)\n",
    "    \n",
    "    # Hacer predicciones para H=2 períodos hacia adelante\n",
    "    preds = fcst.predict(h=H)\n",
    "    \n",
    "    print(f\"Predicciones generadas: {len(preds)}\")\n",
    "    print(f\"Series con predicciones: {preds['unique_id'].nunique()}\")\n",
    "    \n",
    "    # Obtener las fechas objetivo (mes+2) para cada serie\n",
    "    last_train_dates = df_train.groupby('unique_id')['ds'].max().reset_index()\n",
    "    \n",
    "    print(f\"Distribución de últimas fechas en entrenamiento:\")\n",
    "    print(last_train_dates['ds'].value_counts().sort_index().tail(5))\n",
    "    \n",
    "    # Crear las fechas objetivo específicas (mes+2)\n",
    "    target_dates_list = []\n",
    "    for _, row in last_train_dates.iterrows():\n",
    "        unique_id = row['unique_id']\n",
    "        last_date = row['ds']\n",
    "        \n",
    "        # Calcular la fecha objetivo (mes+2)\n",
    "        if isinstance(last_date, pd.Timestamp):\n",
    "            target_date = last_date + pd.DateOffset(months=2)\n",
    "        else:\n",
    "            # Si ds es string, convertir primero\n",
    "            last_date_ts = pd.to_datetime(last_date)\n",
    "            target_date = last_date_ts + pd.DateOffset(months=2)\n",
    "        \n",
    "        target_dates_list.append({\n",
    "            'unique_id': unique_id, \n",
    "            'last_train_date': last_date,\n",
    "            'target_date': target_date\n",
    "        })\n",
    "    \n",
    "    target_dates_df = pd.DataFrame(target_dates_list)\n",
    "    \n",
    "    print(f\"Ejemplo de fechas objetivo:\")\n",
    "    print(target_dates_df[['last_train_date', 'target_date']].head(3))\n",
    "    \n",
    "    # Verificar las fechas en las predicciones\n",
    "    preds_by_series = preds.groupby('unique_id')['ds'].apply(list).reset_index()\n",
    "    preds_by_series.columns = ['unique_id', 'pred_dates']\n",
    "    \n",
    "    print(f\"Ejemplo de fechas predichas:\")\n",
    "    if len(preds_by_series) > 0:\n",
    "        print(f\"Serie {preds_by_series.iloc[0]['unique_id']}: {preds_by_series.iloc[0]['pred_dates']}\")\n",
    "    \n",
    "    # Filtrar predicciones para obtener solo las del mes+2\n",
    "    # Esto sería la segunda predicción (índice 1) para cada serie\n",
    "    preds_month2 = preds[preds.groupby('unique_id').cumcount() == 1].copy()\n",
    "    \n",
    "    print(f\"Predicciones mes+2 extraídas: {len(preds_month2)}\")\n",
    "    \n",
    "    # Hacer merge con las fechas objetivo\n",
    "    preds_month2 = preds_month2.merge(\n",
    "        target_dates_df, \n",
    "        on='unique_id', \n",
    "        how='inner'\n",
    "    )\n",
    "    \n",
    "    # Verificar que ds coincida con target_date (con tolerancia)\n",
    "    preds_month2['date_match'] = preds_month2['ds'] == preds_month2['target_date']\n",
    "    \n",
    "    print(f\"Predicciones que coinciden con fecha objetivo: {preds_month2['date_match'].sum()}\")\n",
    "    \n",
    "    if not preds_month2['date_match'].all():\n",
    "        print(\"Algunas fechas no coinciden exactamente:\")\n",
    "        mismatches = preds_month2[~preds_month2['date_match']]\n",
    "        print(f\"Ejemplos de desajustes ({len(mismatches)} casos):\")\n",
    "        for _, row in mismatches.head(3).iterrows():\n",
    "            print(f\"  Serie {row['unique_id']}: pred={row['ds']}, objetivo={row['target_date']}\")\n",
    "    \n",
    "    # Filtrar solo las que coinciden exactamente\n",
    "    preds_month2_final = preds_month2[preds_month2['date_match']].copy()\n",
    "    \n",
    "    print(f\"Predicciones mes+2 finales: {len(preds_month2_final)}\")\n",
    "    \n",
    "    # Buscar los datos reales correspondientes en el conjunto de validación\n",
    "    merged = preds_month2_final.merge(\n",
    "        df_val, \n",
    "        on=['unique_id', 'ds'], \n",
    "        how='inner'\n",
    "    )\n",
    "    \n",
    "    print(f\"Coincidencias para evaluación: {len(merged)}\")\n",
    "    \n",
    "    if not merged.empty:\n",
    "        # Obtener el nombre de la columna de predicción\n",
    "        pred_cols = [col for col in merged.columns if col not in ['unique_id', 'ds', 'y', 'target_date', 'last_train_date', 'date_match']]\n",
    "        \n",
    "        if pred_cols:\n",
    "            pred_col = pred_cols[0]  # Tomar la primera columna de predicción\n",
    "            rmse = np.sqrt(mean_squared_error(merged['y'], merged[pred_col]))\n",
    "            \n",
    "            print(f\"RMSE (mes+2): {rmse:.4f}\")\n",
    "            print(f\"Usando columna de predicción: {pred_col}\")\n",
    "            errors.append(rmse)\n",
    "        else:\n",
    "            print(\"No se encontró columna de predicción válida\")\n",
    "            print(\"Columnas disponibles:\", merged.columns.tolist())\n",
    "            errors.append(np.nan)\n",
    "    else:\n",
    "        print(\"No hay coincidencias entre predicciones mes+2 y datos reales.\")\n",
    "        errors.append(np.nan)\n",
    "\n",
    "# Calcular estadísticas finales\n",
    "valid_errors = [e for e in errors if not np.isnan(e)]\n",
    "if valid_errors:\n",
    "    print(f\"\\n=== RESULTADOS FINALES ===\")\n",
    "    print(f\"RMSE promedio (mes+2): {np.mean(valid_errors):.4f}\")\n",
    "    print(f\"Desviación estándar RMSE: {np.std(valid_errors):.4f}\")\n",
    "    print(f\"Folds válidos: {len(valid_errors)}/{len(errors)}\")\n",
    "    print(f\"Rango RMSE: {np.min(valid_errors):.4f} - {np.max(valid_errors):.4f}\")\n",
    "else:\n",
    "    print(\"\\nNo se pudieron calcular métricas válidas en ningún fold.\")"
   ]
  },
  {
   "cell_type": "code",
   "execution_count": 99,
   "id": "72ebfd05",
   "metadata": {},
   "outputs": [
    {
     "data": {
      "application/vnd.microsoft.datawrangler.viewer.v0+json": {
       "columns": [
        {
         "name": "index",
         "rawType": "int64",
         "type": "integer"
        },
        {
         "name": "unique_id",
         "rawType": "int64",
         "type": "integer"
        },
        {
         "name": "ds",
         "rawType": "datetime64[ns]",
         "type": "datetime"
        },
        {
         "name": "LGBMRegressor",
         "rawType": "float64",
         "type": "float"
        },
        {
         "name": "last_train_date",
         "rawType": "datetime64[ns]",
         "type": "datetime"
        },
        {
         "name": "target_date",
         "rawType": "datetime64[ns]",
         "type": "datetime"
        },
        {
         "name": "date_match",
         "rawType": "bool",
         "type": "boolean"
        },
        {
         "name": "y",
         "rawType": "float64",
         "type": "float"
        }
       ],
       "ref": "52673fd4-f239-41db-9f6b-a74eb1312460",
       "rows": [
        [
         "0",
         "20001",
         "2019-08-01 00:00:00",
         "1479.4942316618472",
         "2019-06-01 00:00:00",
         "2019-08-01 00:00:00",
         "True",
         "1261.34529"
        ],
        [
         "1",
         "20002",
         "2019-08-01 00:00:00",
         "1277.9554672214456",
         "2019-06-01 00:00:00",
         "2019-08-01 00:00:00",
         "True",
         "813.78215"
        ],
        [
         "2",
         "20003",
         "2019-08-01 00:00:00",
         "817.7353511396899",
         "2019-06-01 00:00:00",
         "2019-08-01 00:00:00",
         "True",
         "635.59563"
        ],
        [
         "3",
         "20004",
         "2019-08-01 00:00:00",
         "771.3938010673284",
         "2019-06-01 00:00:00",
         "2019-08-01 00:00:00",
         "True",
         "482.13372"
        ],
        [
         "4",
         "20005",
         "2019-08-01 00:00:00",
         "833.6034857567853",
         "2019-06-01 00:00:00",
         "2019-08-01 00:00:00",
         "True",
         "536.668"
        ],
        [
         "5",
         "20006",
         "2019-08-01 00:00:00",
         "542.8565556235101",
         "2019-06-01 00:00:00",
         "2019-08-01 00:00:00",
         "True",
         "262.73593"
        ],
        [
         "6",
         "20007",
         "2019-08-01 00:00:00",
         "535.6574228576807",
         "2019-06-01 00:00:00",
         "2019-08-01 00:00:00",
         "True",
         "307.82899"
        ],
        [
         "7",
         "20008",
         "2019-08-01 00:00:00",
         "474.38864465932403",
         "2019-06-01 00:00:00",
         "2019-08-01 00:00:00",
         "True",
         "233.00983"
        ],
        [
         "8",
         "20009",
         "2019-08-01 00:00:00",
         "642.209363713285",
         "2019-06-01 00:00:00",
         "2019-08-01 00:00:00",
         "True",
         "520.41758"
        ],
        [
         "9",
         "20010",
         "2019-08-01 00:00:00",
         "605.1876152554762",
         "2019-06-01 00:00:00",
         "2019-08-01 00:00:00",
         "True",
         "199.86233"
        ],
        [
         "10",
         "20011",
         "2019-08-01 00:00:00",
         "299.42685552513876",
         "2019-06-01 00:00:00",
         "2019-08-01 00:00:00",
         "True",
         "287.89488"
        ],
        [
         "11",
         "20012",
         "2019-08-01 00:00:00",
         "294.69862148441354",
         "2019-06-01 00:00:00",
         "2019-08-01 00:00:00",
         "True",
         "301.48373"
        ],
        [
         "12",
         "20013",
         "2019-08-01 00:00:00",
         "389.4237512612673",
         "2019-06-01 00:00:00",
         "2019-08-01 00:00:00",
         "True",
         "192.57147"
        ],
        [
         "13",
         "20014",
         "2019-08-01 00:00:00",
         "448.45195984992586",
         "2019-06-01 00:00:00",
         "2019-08-01 00:00:00",
         "True",
         "262.11276"
        ],
        [
         "14",
         "20015",
         "2019-08-01 00:00:00",
         "461.2891077066837",
         "2019-06-01 00:00:00",
         "2019-08-01 00:00:00",
         "True",
         "277.54758"
        ],
        [
         "15",
         "20016",
         "2019-08-01 00:00:00",
         "277.7689171097158",
         "2019-06-01 00:00:00",
         "2019-08-01 00:00:00",
         "True",
         "184.25862"
        ],
        [
         "16",
         "20017",
         "2019-08-01 00:00:00",
         "321.75242159444963",
         "2019-06-01 00:00:00",
         "2019-08-01 00:00:00",
         "True",
         "165.1092"
        ],
        [
         "17",
         "20018",
         "2019-08-01 00:00:00",
         "350.8463046772943",
         "2019-06-01 00:00:00",
         "2019-08-01 00:00:00",
         "True",
         "127.56209"
        ],
        [
         "18",
         "20019",
         "2019-08-01 00:00:00",
         "224.61252257890158",
         "2019-06-01 00:00:00",
         "2019-08-01 00:00:00",
         "True",
         "231.82421"
        ],
        [
         "19",
         "20020",
         "2019-08-01 00:00:00",
         "230.19915813873016",
         "2019-06-01 00:00:00",
         "2019-08-01 00:00:00",
         "True",
         "235.55749"
        ],
        [
         "20",
         "20021",
         "2019-08-01 00:00:00",
         "311.0157640583898",
         "2019-06-01 00:00:00",
         "2019-08-01 00:00:00",
         "True",
         "187.75422"
        ],
        [
         "21",
         "20022",
         "2019-08-01 00:00:00",
         "365.3256674447036",
         "2019-06-01 00:00:00",
         "2019-08-01 00:00:00",
         "True",
         "242.56377"
        ],
        [
         "22",
         "20023",
         "2019-08-01 00:00:00",
         "232.2918050489999",
         "2019-06-01 00:00:00",
         "2019-08-01 00:00:00",
         "True",
         "262.68879"
        ],
        [
         "23",
         "20024",
         "2019-08-01 00:00:00",
         "179.5910656705622",
         "2019-06-01 00:00:00",
         "2019-08-01 00:00:00",
         "True",
         "193.15296"
        ],
        [
         "24",
         "20025",
         "2019-08-01 00:00:00",
         "217.9998442932497",
         "2019-06-01 00:00:00",
         "2019-08-01 00:00:00",
         "True",
         "200.39292"
        ],
        [
         "25",
         "20026",
         "2019-08-01 00:00:00",
         "213.76559948579782",
         "2019-06-01 00:00:00",
         "2019-08-01 00:00:00",
         "True",
         "119.35544"
        ],
        [
         "26",
         "20027",
         "2019-08-01 00:00:00",
         "186.24731022653495",
         "2019-06-01 00:00:00",
         "2019-08-01 00:00:00",
         "True",
         "217.37718"
        ],
        [
         "27",
         "20028",
         "2019-08-01 00:00:00",
         "245.43586498444157",
         "2019-06-01 00:00:00",
         "2019-08-01 00:00:00",
         "True",
         "61.670700000000004"
        ],
        [
         "28",
         "20029",
         "2019-08-01 00:00:00",
         "176.3342465445978",
         "2019-06-01 00:00:00",
         "2019-08-01 00:00:00",
         "True",
         "91.49965"
        ],
        [
         "29",
         "20030",
         "2019-08-01 00:00:00",
         "133.2922574506411",
         "2019-06-01 00:00:00",
         "2019-08-01 00:00:00",
         "True",
         "113.98660000000001"
        ],
        [
         "30",
         "20031",
         "2019-08-01 00:00:00",
         "148.82425308005173",
         "2019-06-01 00:00:00",
         "2019-08-01 00:00:00",
         "True",
         "127.38835"
        ],
        [
         "31",
         "20033",
         "2019-08-01 00:00:00",
         "138.49689746741407",
         "2019-06-01 00:00:00",
         "2019-08-01 00:00:00",
         "True",
         "224.36505"
        ],
        [
         "32",
         "20035",
         "2019-08-01 00:00:00",
         "193.51753191684472",
         "2019-06-01 00:00:00",
         "2019-08-01 00:00:00",
         "True",
         "122.06823"
        ],
        [
         "33",
         "20037",
         "2019-08-01 00:00:00",
         "230.25521869848328",
         "2019-06-01 00:00:00",
         "2019-08-01 00:00:00",
         "True",
         "101.30007"
        ],
        [
         "34",
         "20038",
         "2019-08-01 00:00:00",
         "188.8081104706226",
         "2019-06-01 00:00:00",
         "2019-08-01 00:00:00",
         "True",
         "116.57316"
        ],
        [
         "35",
         "20039",
         "2019-08-01 00:00:00",
         "127.18849769514088",
         "2019-06-01 00:00:00",
         "2019-08-01 00:00:00",
         "True",
         "118.13038"
        ],
        [
         "36",
         "20041",
         "2019-08-01 00:00:00",
         "137.09151456957014",
         "2019-06-01 00:00:00",
         "2019-08-01 00:00:00",
         "True",
         "112.5198"
        ],
        [
         "37",
         "20042",
         "2019-08-01 00:00:00",
         "166.42705748653162",
         "2019-06-01 00:00:00",
         "2019-08-01 00:00:00",
         "True",
         "119.02720000000001"
        ],
        [
         "38",
         "20043",
         "2019-08-01 00:00:00",
         "112.62788694861047",
         "2019-06-01 00:00:00",
         "2019-08-01 00:00:00",
         "True",
         "79.39276"
        ],
        [
         "39",
         "20044",
         "2019-08-01 00:00:00",
         "179.79242740137923",
         "2019-06-01 00:00:00",
         "2019-08-01 00:00:00",
         "True",
         "67.96227"
        ],
        [
         "40",
         "20045",
         "2019-08-01 00:00:00",
         "123.51481464540552",
         "2019-06-01 00:00:00",
         "2019-08-01 00:00:00",
         "True",
         "115.12476"
        ],
        [
         "41",
         "20046",
         "2019-08-01 00:00:00",
         "109.98556491950976",
         "2019-06-01 00:00:00",
         "2019-08-01 00:00:00",
         "True",
         "155.45457"
        ],
        [
         "42",
         "20047",
         "2019-08-01 00:00:00",
         "196.64587307674128",
         "2019-06-01 00:00:00",
         "2019-08-01 00:00:00",
         "True",
         "113.47343000000001"
        ],
        [
         "43",
         "20050",
         "2019-08-01 00:00:00",
         "124.1396222139346",
         "2019-06-01 00:00:00",
         "2019-08-01 00:00:00",
         "True",
         "109.82896000000001"
        ],
        [
         "44",
         "20051",
         "2019-08-01 00:00:00",
         "148.73227237524387",
         "2019-06-01 00:00:00",
         "2019-08-01 00:00:00",
         "True",
         "128.83116"
        ],
        [
         "45",
         "20052",
         "2019-08-01 00:00:00",
         "117.95388119394171",
         "2019-06-01 00:00:00",
         "2019-08-01 00:00:00",
         "True",
         "110.35966"
        ],
        [
         "46",
         "20053",
         "2019-08-01 00:00:00",
         "140.1045428854962",
         "2019-06-01 00:00:00",
         "2019-08-01 00:00:00",
         "True",
         "101.27047"
        ],
        [
         "47",
         "20054",
         "2019-08-01 00:00:00",
         "151.78165486643664",
         "2019-06-01 00:00:00",
         "2019-08-01 00:00:00",
         "True",
         "70.37038"
        ],
        [
         "48",
         "20055",
         "2019-08-01 00:00:00",
         "94.6309432446362",
         "2019-06-01 00:00:00",
         "2019-08-01 00:00:00",
         "True",
         "113.07121"
        ],
        [
         "49",
         "20056",
         "2019-08-01 00:00:00",
         "78.25409942420264",
         "2019-06-01 00:00:00",
         "2019-08-01 00:00:00",
         "True",
         "116.21064"
        ]
       ],
       "shape": {
        "columns": 7,
        "rows": 478
       }
      },
      "text/html": [
       "<div>\n",
       "<style scoped>\n",
       "    .dataframe tbody tr th:only-of-type {\n",
       "        vertical-align: middle;\n",
       "    }\n",
       "\n",
       "    .dataframe tbody tr th {\n",
       "        vertical-align: top;\n",
       "    }\n",
       "\n",
       "    .dataframe thead th {\n",
       "        text-align: right;\n",
       "    }\n",
       "</style>\n",
       "<table border=\"1\" class=\"dataframe\">\n",
       "  <thead>\n",
       "    <tr style=\"text-align: right;\">\n",
       "      <th></th>\n",
       "      <th>unique_id</th>\n",
       "      <th>ds</th>\n",
       "      <th>LGBMRegressor</th>\n",
       "      <th>last_train_date</th>\n",
       "      <th>target_date</th>\n",
       "      <th>date_match</th>\n",
       "      <th>y</th>\n",
       "    </tr>\n",
       "  </thead>\n",
       "  <tbody>\n",
       "    <tr>\n",
       "      <th>0</th>\n",
       "      <td>20001</td>\n",
       "      <td>2019-08-01</td>\n",
       "      <td>1479.494232</td>\n",
       "      <td>2019-06-01</td>\n",
       "      <td>2019-08-01</td>\n",
       "      <td>True</td>\n",
       "      <td>1261.34529</td>\n",
       "    </tr>\n",
       "    <tr>\n",
       "      <th>1</th>\n",
       "      <td>20002</td>\n",
       "      <td>2019-08-01</td>\n",
       "      <td>1277.955467</td>\n",
       "      <td>2019-06-01</td>\n",
       "      <td>2019-08-01</td>\n",
       "      <td>True</td>\n",
       "      <td>813.78215</td>\n",
       "    </tr>\n",
       "    <tr>\n",
       "      <th>2</th>\n",
       "      <td>20003</td>\n",
       "      <td>2019-08-01</td>\n",
       "      <td>817.735351</td>\n",
       "      <td>2019-06-01</td>\n",
       "      <td>2019-08-01</td>\n",
       "      <td>True</td>\n",
       "      <td>635.59563</td>\n",
       "    </tr>\n",
       "    <tr>\n",
       "      <th>3</th>\n",
       "      <td>20004</td>\n",
       "      <td>2019-08-01</td>\n",
       "      <td>771.393801</td>\n",
       "      <td>2019-06-01</td>\n",
       "      <td>2019-08-01</td>\n",
       "      <td>True</td>\n",
       "      <td>482.13372</td>\n",
       "    </tr>\n",
       "    <tr>\n",
       "      <th>4</th>\n",
       "      <td>20005</td>\n",
       "      <td>2019-08-01</td>\n",
       "      <td>833.603486</td>\n",
       "      <td>2019-06-01</td>\n",
       "      <td>2019-08-01</td>\n",
       "      <td>True</td>\n",
       "      <td>536.66800</td>\n",
       "    </tr>\n",
       "    <tr>\n",
       "      <th>...</th>\n",
       "      <td>...</td>\n",
       "      <td>...</td>\n",
       "      <td>...</td>\n",
       "      <td>...</td>\n",
       "      <td>...</td>\n",
       "      <td>...</td>\n",
       "      <td>...</td>\n",
       "    </tr>\n",
       "    <tr>\n",
       "      <th>473</th>\n",
       "      <td>21182</td>\n",
       "      <td>2019-08-01</td>\n",
       "      <td>1.496975</td>\n",
       "      <td>2019-06-01</td>\n",
       "      <td>2019-08-01</td>\n",
       "      <td>True</td>\n",
       "      <td>0.14046</td>\n",
       "    </tr>\n",
       "    <tr>\n",
       "      <th>474</th>\n",
       "      <td>21192</td>\n",
       "      <td>2019-08-01</td>\n",
       "      <td>1.496975</td>\n",
       "      <td>2019-06-01</td>\n",
       "      <td>2019-08-01</td>\n",
       "      <td>True</td>\n",
       "      <td>0.02840</td>\n",
       "    </tr>\n",
       "    <tr>\n",
       "      <th>475</th>\n",
       "      <td>21202</td>\n",
       "      <td>2019-08-01</td>\n",
       "      <td>1.496975</td>\n",
       "      <td>2019-06-01</td>\n",
       "      <td>2019-08-01</td>\n",
       "      <td>True</td>\n",
       "      <td>0.08585</td>\n",
       "    </tr>\n",
       "    <tr>\n",
       "      <th>476</th>\n",
       "      <td>21218</td>\n",
       "      <td>2019-08-01</td>\n",
       "      <td>1.496975</td>\n",
       "      <td>2019-06-01</td>\n",
       "      <td>2019-08-01</td>\n",
       "      <td>True</td>\n",
       "      <td>0.04513</td>\n",
       "    </tr>\n",
       "    <tr>\n",
       "      <th>477</th>\n",
       "      <td>21222</td>\n",
       "      <td>2019-08-01</td>\n",
       "      <td>1.496975</td>\n",
       "      <td>2019-06-01</td>\n",
       "      <td>2019-08-01</td>\n",
       "      <td>True</td>\n",
       "      <td>0.04442</td>\n",
       "    </tr>\n",
       "  </tbody>\n",
       "</table>\n",
       "<p>478 rows × 7 columns</p>\n",
       "</div>"
      ],
      "text/plain": [
       "     unique_id         ds  LGBMRegressor last_train_date target_date  \\\n",
       "0        20001 2019-08-01    1479.494232      2019-06-01  2019-08-01   \n",
       "1        20002 2019-08-01    1277.955467      2019-06-01  2019-08-01   \n",
       "2        20003 2019-08-01     817.735351      2019-06-01  2019-08-01   \n",
       "3        20004 2019-08-01     771.393801      2019-06-01  2019-08-01   \n",
       "4        20005 2019-08-01     833.603486      2019-06-01  2019-08-01   \n",
       "..         ...        ...            ...             ...         ...   \n",
       "473      21182 2019-08-01       1.496975      2019-06-01  2019-08-01   \n",
       "474      21192 2019-08-01       1.496975      2019-06-01  2019-08-01   \n",
       "475      21202 2019-08-01       1.496975      2019-06-01  2019-08-01   \n",
       "476      21218 2019-08-01       1.496975      2019-06-01  2019-08-01   \n",
       "477      21222 2019-08-01       1.496975      2019-06-01  2019-08-01   \n",
       "\n",
       "     date_match           y  \n",
       "0          True  1261.34529  \n",
       "1          True   813.78215  \n",
       "2          True   635.59563  \n",
       "3          True   482.13372  \n",
       "4          True   536.66800  \n",
       "..          ...         ...  \n",
       "473        True     0.14046  \n",
       "474        True     0.02840  \n",
       "475        True     0.08585  \n",
       "476        True     0.04513  \n",
       "477        True     0.04442  \n",
       "\n",
       "[478 rows x 7 columns]"
      ]
     },
     "execution_count": 99,
     "metadata": {},
     "output_type": "execute_result"
    }
   ],
   "source": [
    "merged"
   ]
  },
  {
   "cell_type": "code",
   "execution_count": 100,
   "id": "05e39296",
   "metadata": {},
   "outputs": [
    {
     "name": "stdout",
     "output_type": "stream",
     "text": [
      "Shape: (17208, 3)\n",
      "Columnas: ['unique_id', 'ds', 'y']\n",
      "Tipos: unique_id             int64\n",
      "ds           datetime64[ns]\n",
      "y                   float64\n",
      "dtype: object\n"
     ]
    }
   ],
   "source": [
    "print(\"Shape:\", df.shape)\n",
    "print(\"Columnas:\", df.columns.tolist())\n",
    "print(\"Tipos:\", df.dtypes)"
   ]
  },
  {
   "cell_type": "code",
   "execution_count": 101,
   "id": "54ac09af",
   "metadata": {},
   "outputs": [
    {
     "name": "stdout",
     "output_type": "stream",
     "text": [
      "478\n",
      "36\n"
     ]
    }
   ],
   "source": [
    "print(df['unique_id'].nunique())              # cuántas series hay\n",
    "print(df.groupby('unique_id').size().min())   # cuál es la más corta"
   ]
  },
  {
   "cell_type": "code",
   "execution_count": 102,
   "id": "f17cb510",
   "metadata": {},
   "outputs": [],
   "source": [
    "def promedio_12_meses_780p():\n",
    "    \n",
    "    df = pd.read_csv(\"../entregable/datasets/periodo_x_producto_con_target.csv\", sep=',', encoding='utf-8')\n",
    "    df = df[df['periodo'] >= 201901]  # Filtrar desde 201901\n",
    "    \n",
    "    productos_ok = pd.read_csv(\"https://storage.googleapis.com/open-courses/austral2025-af91/labo3v/product_id_apredecir201912.txt\", sep=\"\\t\")\n",
    "\n",
    "    df = df.merge(productos_ok, on='product_id', how='inner')\n",
    "    \n",
    "    df = df.groupby('product_id').agg({'tn': 'mean'}).reset_index()\n",
    "    \n",
    "    return df\n",
    "\n",
    "promedios = promedio_12_meses_780p()"
   ]
  },
  {
   "cell_type": "code",
   "execution_count": null,
   "id": "485c5e1c",
   "metadata": {},
   "outputs": [],
   "source": []
  },
  {
   "cell_type": "code",
   "execution_count": 103,
   "id": "1f37a59f",
   "metadata": {},
   "outputs": [
    {
     "data": {
      "application/vnd.microsoft.datawrangler.viewer.v0+json": {
       "columns": [
        {
         "name": "index",
         "rawType": "int64",
         "type": "integer"
        },
        {
         "name": "unique_id",
         "rawType": "float64",
         "type": "float"
        },
        {
         "name": "ds",
         "rawType": "datetime64[ns]",
         "type": "datetime"
        },
        {
         "name": "LGBMRegressor",
         "rawType": "float64",
         "type": "float"
        },
        {
         "name": "last_train_date",
         "rawType": "datetime64[ns]",
         "type": "datetime"
        },
        {
         "name": "target_date",
         "rawType": "datetime64[ns]",
         "type": "datetime"
        },
        {
         "name": "date_match",
         "rawType": "object",
         "type": "unknown"
        },
        {
         "name": "y",
         "rawType": "float64",
         "type": "float"
        },
        {
         "name": "product_id",
         "rawType": "int64",
         "type": "integer"
        },
        {
         "name": "tn",
         "rawType": "float64",
         "type": "float"
        }
       ],
       "ref": "f4ed8d5e-2d44-4553-8a95-45530b9064f4",
       "rows": [
        [
         "0",
         "20001.0",
         "2019-08-01 00:00:00",
         "1479.4942316618472",
         "2019-06-01 00:00:00",
         "2019-08-01 00:00:00",
         "True",
         "1261.34529",
         "20001",
         "1454.73272"
        ],
        [
         "1",
         "20002.0",
         "2019-08-01 00:00:00",
         "1277.9554672214456",
         "2019-06-01 00:00:00",
         "2019-08-01 00:00:00",
         "True",
         "813.78215",
         "20002",
         "1175.4371416666665"
        ],
        [
         "2",
         "20003.0",
         "2019-08-01 00:00:00",
         "817.7353511396899",
         "2019-06-01 00:00:00",
         "2019-08-01 00:00:00",
         "True",
         "635.59563",
         "20003",
         "784.9764074999999"
        ],
        [
         "3",
         "20004.0",
         "2019-08-01 00:00:00",
         "771.3938010673284",
         "2019-06-01 00:00:00",
         "2019-08-01 00:00:00",
         "True",
         "482.13372",
         "20004",
         "627.2153283333333"
        ],
        [
         "4",
         "20005.0",
         "2019-08-01 00:00:00",
         "833.6034857567853",
         "2019-06-01 00:00:00",
         "2019-08-01 00:00:00",
         "True",
         "536.668",
         "20005",
         "668.2701041666667"
        ],
        [
         "5",
         "20006.0",
         "2019-08-01 00:00:00",
         "542.8565556235101",
         "2019-06-01 00:00:00",
         "2019-08-01 00:00:00",
         "True",
         "262.73593",
         "20006",
         "478.6137083333333"
        ],
        [
         "6",
         "20007.0",
         "2019-08-01 00:00:00",
         "535.6574228576807",
         "2019-06-01 00:00:00",
         "2019-08-01 00:00:00",
         "True",
         "307.82899",
         "20007",
         "434.1378058333333"
        ],
        [
         "7",
         "20008.0",
         "2019-08-01 00:00:00",
         "474.38864465932403",
         "2019-06-01 00:00:00",
         "2019-08-01 00:00:00",
         "True",
         "233.00983",
         "20008",
         "422.0481833333333"
        ],
        [
         "8",
         "20009.0",
         "2019-08-01 00:00:00",
         "642.209363713285",
         "2019-06-01 00:00:00",
         "2019-08-01 00:00:00",
         "True",
         "520.41758",
         "20009",
         "541.3225866666667"
        ],
        [
         "9",
         "20010.0",
         "2019-08-01 00:00:00",
         "605.1876152554762",
         "2019-06-01 00:00:00",
         "2019-08-01 00:00:00",
         "True",
         "199.86233",
         "20010",
         "429.5746608333333"
        ],
        [
         "10",
         "20011.0",
         "2019-08-01 00:00:00",
         "299.42685552513876",
         "2019-06-01 00:00:00",
         "2019-08-01 00:00:00",
         "True",
         "287.89488",
         "20011",
         "377.63544"
        ],
        [
         "11",
         "20012.0",
         "2019-08-01 00:00:00",
         "294.69862148441354",
         "2019-06-01 00:00:00",
         "2019-08-01 00:00:00",
         "True",
         "301.48373",
         "20012",
         "332.228885"
        ],
        [
         "12",
         "20013.0",
         "2019-08-01 00:00:00",
         "389.4237512612673",
         "2019-06-01 00:00:00",
         "2019-08-01 00:00:00",
         "True",
         "192.57147",
         "20013",
         "416.06292"
        ],
        [
         "13",
         "20014.0",
         "2019-08-01 00:00:00",
         "448.45195984992586",
         "2019-06-01 00:00:00",
         "2019-08-01 00:00:00",
         "True",
         "262.11276",
         "20014",
         "414.70520000000005"
        ],
        [
         "14",
         "20015.0",
         "2019-08-01 00:00:00",
         "461.2891077066837",
         "2019-06-01 00:00:00",
         "2019-08-01 00:00:00",
         "True",
         "277.54758",
         "20015",
         "369.02365166666664"
        ],
        [
         "15",
         "20016.0",
         "2019-08-01 00:00:00",
         "277.7689171097158",
         "2019-06-01 00:00:00",
         "2019-08-01 00:00:00",
         "True",
         "184.25862",
         "20016",
         "288.51459"
        ],
        [
         "16",
         "20017.0",
         "2019-08-01 00:00:00",
         "321.75242159444963",
         "2019-06-01 00:00:00",
         "2019-08-01 00:00:00",
         "True",
         "165.1092",
         "20017",
         "287.38575166666664"
        ],
        [
         "17",
         "20018.0",
         "2019-08-01 00:00:00",
         "350.8463046772943",
         "2019-06-01 00:00:00",
         "2019-08-01 00:00:00",
         "True",
         "127.56209",
         "20018",
         "275.44511083333333"
        ],
        [
         "18",
         "20019.0",
         "2019-08-01 00:00:00",
         "224.61252257890158",
         "2019-06-01 00:00:00",
         "2019-08-01 00:00:00",
         "True",
         "231.82421",
         "20019",
         "306.52162749999997"
        ],
        [
         "19",
         "20020.0",
         "2019-08-01 00:00:00",
         "230.19915813873016",
         "2019-06-01 00:00:00",
         "2019-08-01 00:00:00",
         "True",
         "235.55749",
         "20020",
         "280.10235416666666"
        ],
        [
         "20",
         "20021.0",
         "2019-08-01 00:00:00",
         "311.0157640583898",
         "2019-06-01 00:00:00",
         "2019-08-01 00:00:00",
         "True",
         "187.75422",
         "20021",
         "259.495665"
        ],
        [
         "21",
         "20022.0",
         "2019-08-01 00:00:00",
         "365.3256674447036",
         "2019-06-01 00:00:00",
         "2019-08-01 00:00:00",
         "True",
         "242.56377",
         "20022",
         "279.20400333333333"
        ],
        [
         "22",
         "20023.0",
         "2019-08-01 00:00:00",
         "232.2918050489999",
         "2019-06-01 00:00:00",
         "2019-08-01 00:00:00",
         "True",
         "262.68879",
         "20023",
         "266.90118"
        ],
        [
         "23",
         "20024.0",
         "2019-08-01 00:00:00",
         "179.5910656705622",
         "2019-06-01 00:00:00",
         "2019-08-01 00:00:00",
         "True",
         "193.15296",
         "20024",
         "222.11553"
        ],
        [
         "24",
         "20025.0",
         "2019-08-01 00:00:00",
         "217.9998442932497",
         "2019-06-01 00:00:00",
         "2019-08-01 00:00:00",
         "True",
         "200.39292",
         "20025",
         "222.86218499999998"
        ],
        [
         "25",
         "20026.0",
         "2019-08-01 00:00:00",
         "213.76559948579782",
         "2019-06-01 00:00:00",
         "2019-08-01 00:00:00",
         "True",
         "119.35544",
         "20026",
         "237.10623833333332"
        ],
        [
         "26",
         "20027.0",
         "2019-08-01 00:00:00",
         "186.24731022653495",
         "2019-06-01 00:00:00",
         "2019-08-01 00:00:00",
         "True",
         "217.37718",
         "20027",
         "230.0149175"
        ],
        [
         "27",
         "20028.0",
         "2019-08-01 00:00:00",
         "245.43586498444157",
         "2019-06-01 00:00:00",
         "2019-08-01 00:00:00",
         "True",
         "61.670700000000004",
         "20028",
         "213.228015"
        ],
        [
         "28",
         "20029.0",
         "2019-08-01 00:00:00",
         "176.3342465445978",
         "2019-06-01 00:00:00",
         "2019-08-01 00:00:00",
         "True",
         "91.49965",
         "20029",
         "185.16274833333333"
        ],
        [
         "29",
         "20030.0",
         "2019-08-01 00:00:00",
         "133.2922574506411",
         "2019-06-01 00:00:00",
         "2019-08-01 00:00:00",
         "True",
         "113.98660000000001",
         "20030",
         "127.85045000000001"
        ],
        [
         "30",
         "20031.0",
         "2019-08-01 00:00:00",
         "148.82425308005173",
         "2019-06-01 00:00:00",
         "2019-08-01 00:00:00",
         "True",
         "127.38835",
         "20031",
         "185.90788666666666"
        ],
        [
         "31",
         null,
         null,
         null,
         null,
         null,
         null,
         null,
         "20032",
         "590.33366"
        ],
        [
         "32",
         "20033.0",
         "2019-08-01 00:00:00",
         "138.49689746741407",
         "2019-06-01 00:00:00",
         "2019-08-01 00:00:00",
         "True",
         "224.36505",
         "20033",
         "176.0324475"
        ],
        [
         "33",
         "20035.0",
         "2019-08-01 00:00:00",
         "193.51753191684472",
         "2019-06-01 00:00:00",
         "2019-08-01 00:00:00",
         "True",
         "122.06823",
         "20035",
         "172.19100333333333"
        ],
        [
         "34",
         "20037.0",
         "2019-08-01 00:00:00",
         "230.25521869848328",
         "2019-06-01 00:00:00",
         "2019-08-01 00:00:00",
         "True",
         "101.30007",
         "20037",
         "179.65005833333336"
        ],
        [
         "35",
         "20038.0",
         "2019-08-01 00:00:00",
         "188.8081104706226",
         "2019-06-01 00:00:00",
         "2019-08-01 00:00:00",
         "True",
         "116.57316",
         "20038",
         "175.941565"
        ],
        [
         "36",
         "20039.0",
         "2019-08-01 00:00:00",
         "127.18849769514088",
         "2019-06-01 00:00:00",
         "2019-08-01 00:00:00",
         "True",
         "118.13038",
         "20039",
         "144.37351750000002"
        ],
        [
         "37",
         "20041.0",
         "2019-08-01 00:00:00",
         "137.09151456957014",
         "2019-06-01 00:00:00",
         "2019-08-01 00:00:00",
         "True",
         "112.5198",
         "20041",
         "144.23799083333333"
        ],
        [
         "38",
         "20042.0",
         "2019-08-01 00:00:00",
         "166.42705748653162",
         "2019-06-01 00:00:00",
         "2019-08-01 00:00:00",
         "True",
         "119.02720000000001",
         "20042",
         "174.63574083333333"
        ],
        [
         "39",
         "20043.0",
         "2019-08-01 00:00:00",
         "112.62788694861047",
         "2019-06-01 00:00:00",
         "2019-08-01 00:00:00",
         "True",
         "79.39276",
         "20043",
         "137.17993833333333"
        ],
        [
         "40",
         "20044.0",
         "2019-08-01 00:00:00",
         "179.79242740137923",
         "2019-06-01 00:00:00",
         "2019-08-01 00:00:00",
         "True",
         "67.96227",
         "20044",
         "169.413755"
        ],
        [
         "41",
         "20045.0",
         "2019-08-01 00:00:00",
         "123.51481464540552",
         "2019-06-01 00:00:00",
         "2019-08-01 00:00:00",
         "True",
         "115.12476",
         "20045",
         "154.42506916666667"
        ],
        [
         "42",
         "20046.0",
         "2019-08-01 00:00:00",
         "109.98556491950976",
         "2019-06-01 00:00:00",
         "2019-08-01 00:00:00",
         "True",
         "155.45457",
         "20046",
         "155.99976583333333"
        ],
        [
         "43",
         "20047.0",
         "2019-08-01 00:00:00",
         "196.64587307674128",
         "2019-06-01 00:00:00",
         "2019-08-01 00:00:00",
         "True",
         "113.47343000000001",
         "20047",
         "165.353965"
        ],
        [
         "44",
         null,
         null,
         null,
         null,
         null,
         null,
         null,
         "20049",
         "203.98650999999998"
        ],
        [
         "45",
         "20050.0",
         "2019-08-01 00:00:00",
         "124.1396222139346",
         "2019-06-01 00:00:00",
         "2019-08-01 00:00:00",
         "True",
         "109.82896000000001",
         "20050",
         "131.337005"
        ],
        [
         "46",
         "20051.0",
         "2019-08-01 00:00:00",
         "148.73227237524387",
         "2019-06-01 00:00:00",
         "2019-08-01 00:00:00",
         "True",
         "128.83116",
         "20051",
         "150.87717916666668"
        ],
        [
         "47",
         "20052.0",
         "2019-08-01 00:00:00",
         "117.95388119394171",
         "2019-06-01 00:00:00",
         "2019-08-01 00:00:00",
         "True",
         "110.35966",
         "20052",
         "119.09683416666667"
        ],
        [
         "48",
         "20053.0",
         "2019-08-01 00:00:00",
         "140.1045428854962",
         "2019-06-01 00:00:00",
         "2019-08-01 00:00:00",
         "True",
         "101.27047",
         "20053",
         "146.06558583333333"
        ],
        [
         "49",
         "20054.0",
         "2019-08-01 00:00:00",
         "151.78165486643664",
         "2019-06-01 00:00:00",
         "2019-08-01 00:00:00",
         "True",
         "70.37038",
         "20054",
         "137.87184249999999"
        ]
       ],
       "shape": {
        "columns": 9,
        "rows": 780
       }
      },
      "text/html": [
       "<div>\n",
       "<style scoped>\n",
       "    .dataframe tbody tr th:only-of-type {\n",
       "        vertical-align: middle;\n",
       "    }\n",
       "\n",
       "    .dataframe tbody tr th {\n",
       "        vertical-align: top;\n",
       "    }\n",
       "\n",
       "    .dataframe thead th {\n",
       "        text-align: right;\n",
       "    }\n",
       "</style>\n",
       "<table border=\"1\" class=\"dataframe\">\n",
       "  <thead>\n",
       "    <tr style=\"text-align: right;\">\n",
       "      <th></th>\n",
       "      <th>unique_id</th>\n",
       "      <th>ds</th>\n",
       "      <th>LGBMRegressor</th>\n",
       "      <th>last_train_date</th>\n",
       "      <th>target_date</th>\n",
       "      <th>date_match</th>\n",
       "      <th>y</th>\n",
       "      <th>product_id</th>\n",
       "      <th>tn</th>\n",
       "    </tr>\n",
       "  </thead>\n",
       "  <tbody>\n",
       "    <tr>\n",
       "      <th>0</th>\n",
       "      <td>20001.0</td>\n",
       "      <td>2019-08-01</td>\n",
       "      <td>1479.494232</td>\n",
       "      <td>2019-06-01</td>\n",
       "      <td>2019-08-01</td>\n",
       "      <td>True</td>\n",
       "      <td>1261.34529</td>\n",
       "      <td>20001</td>\n",
       "      <td>1454.732720</td>\n",
       "    </tr>\n",
       "    <tr>\n",
       "      <th>1</th>\n",
       "      <td>20002.0</td>\n",
       "      <td>2019-08-01</td>\n",
       "      <td>1277.955467</td>\n",
       "      <td>2019-06-01</td>\n",
       "      <td>2019-08-01</td>\n",
       "      <td>True</td>\n",
       "      <td>813.78215</td>\n",
       "      <td>20002</td>\n",
       "      <td>1175.437142</td>\n",
       "    </tr>\n",
       "    <tr>\n",
       "      <th>2</th>\n",
       "      <td>20003.0</td>\n",
       "      <td>2019-08-01</td>\n",
       "      <td>817.735351</td>\n",
       "      <td>2019-06-01</td>\n",
       "      <td>2019-08-01</td>\n",
       "      <td>True</td>\n",
       "      <td>635.59563</td>\n",
       "      <td>20003</td>\n",
       "      <td>784.976407</td>\n",
       "    </tr>\n",
       "    <tr>\n",
       "      <th>3</th>\n",
       "      <td>20004.0</td>\n",
       "      <td>2019-08-01</td>\n",
       "      <td>771.393801</td>\n",
       "      <td>2019-06-01</td>\n",
       "      <td>2019-08-01</td>\n",
       "      <td>True</td>\n",
       "      <td>482.13372</td>\n",
       "      <td>20004</td>\n",
       "      <td>627.215328</td>\n",
       "    </tr>\n",
       "    <tr>\n",
       "      <th>4</th>\n",
       "      <td>20005.0</td>\n",
       "      <td>2019-08-01</td>\n",
       "      <td>833.603486</td>\n",
       "      <td>2019-06-01</td>\n",
       "      <td>2019-08-01</td>\n",
       "      <td>True</td>\n",
       "      <td>536.66800</td>\n",
       "      <td>20005</td>\n",
       "      <td>668.270104</td>\n",
       "    </tr>\n",
       "    <tr>\n",
       "      <th>...</th>\n",
       "      <td>...</td>\n",
       "      <td>...</td>\n",
       "      <td>...</td>\n",
       "      <td>...</td>\n",
       "      <td>...</td>\n",
       "      <td>...</td>\n",
       "      <td>...</td>\n",
       "      <td>...</td>\n",
       "      <td>...</td>\n",
       "    </tr>\n",
       "    <tr>\n",
       "      <th>775</th>\n",
       "      <td>NaN</td>\n",
       "      <td>NaT</td>\n",
       "      <td>NaN</td>\n",
       "      <td>NaT</td>\n",
       "      <td>NaT</td>\n",
       "      <td>NaN</td>\n",
       "      <td>NaN</td>\n",
       "      <td>21263</td>\n",
       "      <td>0.029993</td>\n",
       "    </tr>\n",
       "    <tr>\n",
       "      <th>776</th>\n",
       "      <td>NaN</td>\n",
       "      <td>NaT</td>\n",
       "      <td>NaN</td>\n",
       "      <td>NaT</td>\n",
       "      <td>NaT</td>\n",
       "      <td>NaN</td>\n",
       "      <td>NaN</td>\n",
       "      <td>21265</td>\n",
       "      <td>0.089541</td>\n",
       "    </tr>\n",
       "    <tr>\n",
       "      <th>777</th>\n",
       "      <td>NaN</td>\n",
       "      <td>NaT</td>\n",
       "      <td>NaN</td>\n",
       "      <td>NaT</td>\n",
       "      <td>NaT</td>\n",
       "      <td>NaN</td>\n",
       "      <td>NaN</td>\n",
       "      <td>21266</td>\n",
       "      <td>0.094659</td>\n",
       "    </tr>\n",
       "    <tr>\n",
       "      <th>778</th>\n",
       "      <td>NaN</td>\n",
       "      <td>NaT</td>\n",
       "      <td>NaN</td>\n",
       "      <td>NaT</td>\n",
       "      <td>NaT</td>\n",
       "      <td>NaN</td>\n",
       "      <td>NaN</td>\n",
       "      <td>21267</td>\n",
       "      <td>0.092835</td>\n",
       "    </tr>\n",
       "    <tr>\n",
       "      <th>779</th>\n",
       "      <td>NaN</td>\n",
       "      <td>NaT</td>\n",
       "      <td>NaN</td>\n",
       "      <td>NaT</td>\n",
       "      <td>NaT</td>\n",
       "      <td>NaN</td>\n",
       "      <td>NaN</td>\n",
       "      <td>21276</td>\n",
       "      <td>0.045447</td>\n",
       "    </tr>\n",
       "  </tbody>\n",
       "</table>\n",
       "<p>780 rows × 9 columns</p>\n",
       "</div>"
      ],
      "text/plain": [
       "     unique_id         ds  LGBMRegressor last_train_date target_date  \\\n",
       "0      20001.0 2019-08-01    1479.494232      2019-06-01  2019-08-01   \n",
       "1      20002.0 2019-08-01    1277.955467      2019-06-01  2019-08-01   \n",
       "2      20003.0 2019-08-01     817.735351      2019-06-01  2019-08-01   \n",
       "3      20004.0 2019-08-01     771.393801      2019-06-01  2019-08-01   \n",
       "4      20005.0 2019-08-01     833.603486      2019-06-01  2019-08-01   \n",
       "..         ...        ...            ...             ...         ...   \n",
       "775        NaN        NaT            NaN             NaT         NaT   \n",
       "776        NaN        NaT            NaN             NaT         NaT   \n",
       "777        NaN        NaT            NaN             NaT         NaT   \n",
       "778        NaN        NaT            NaN             NaT         NaT   \n",
       "779        NaN        NaT            NaN             NaT         NaT   \n",
       "\n",
       "    date_match           y  product_id           tn  \n",
       "0         True  1261.34529       20001  1454.732720  \n",
       "1         True   813.78215       20002  1175.437142  \n",
       "2         True   635.59563       20003   784.976407  \n",
       "3         True   482.13372       20004   627.215328  \n",
       "4         True   536.66800       20005   668.270104  \n",
       "..         ...         ...         ...          ...  \n",
       "775        NaN         NaN       21263     0.029993  \n",
       "776        NaN         NaN       21265     0.089541  \n",
       "777        NaN         NaN       21266     0.094659  \n",
       "778        NaN         NaN       21267     0.092835  \n",
       "779        NaN         NaN       21276     0.045447  \n",
       "\n",
       "[780 rows x 9 columns]"
      ]
     },
     "execution_count": 103,
     "metadata": {},
     "output_type": "execute_result"
    }
   ],
   "source": [
    "merged = merged.merge(\n",
    "    promedios, \n",
    "    left_on='unique_id', \n",
    "    right_on='product_id', \n",
    "    how='outer'\n",
    ")\n",
    "merged"
   ]
  },
  {
   "cell_type": "code",
   "execution_count": 104,
   "id": "1a08001a",
   "metadata": {},
   "outputs": [
    {
     "name": "stderr",
     "output_type": "stream",
     "text": [
      "C:\\Users\\Usuario\\AppData\\Local\\Temp\\ipykernel_19912\\3061097598.py:1: FutureWarning: A value is trying to be set on a copy of a DataFrame or Series through chained assignment using an inplace method.\n",
      "The behavior will change in pandas 3.0. This inplace method will never work because the intermediate object on which we are setting values always behaves as a copy.\n",
      "\n",
      "For example, when doing 'df[col].method(value, inplace=True)', try using 'df.method({col: value}, inplace=True)' or df[col] = df[col].method(value) instead, to perform the operation inplace on the original object.\n",
      "\n",
      "\n",
      "  merged['LGBMRegressor'].fillna(merged['tn'], inplace=True)\n"
     ]
    }
   ],
   "source": [
    "merged['LGBMRegressor'].fillna(merged['tn'], inplace=True)"
   ]
  },
  {
   "cell_type": "code",
   "execution_count": 105,
   "id": "5939b484",
   "metadata": {},
   "outputs": [],
   "source": [
    "merged[['product_id', 'LGBMRegressor']].to_csv(\"./outputs/forecast.csv\", sep=',', index=False)"
   ]
  }
 ],
 "metadata": {
  "kernelspec": {
   "display_name": "py311lab3",
   "language": "python",
   "name": "python3"
  },
  "language_info": {
   "codemirror_mode": {
    "name": "ipython",
    "version": 3
   },
   "file_extension": ".py",
   "mimetype": "text/x-python",
   "name": "python",
   "nbconvert_exporter": "python",
   "pygments_lexer": "ipython3",
   "version": "3.11.13"
  }
 },
 "nbformat": 4,
 "nbformat_minor": 5
}
