{
 "cells": [
  {
   "cell_type": "code",
   "execution_count": 2,
   "id": "a7a5020a",
   "metadata": {},
   "outputs": [],
   "source": [
    "import pandas as pd\n",
    "import numpy as np\n",
    "import importlib\n",
    "import gc\n",
    "import sys\n",
    "import warnings\n",
    "warnings.filterwarnings(\"ignore\")"
   ]
  },
  {
   "cell_type": "code",
   "execution_count": 2,
   "id": "19467f4f",
   "metadata": {},
   "outputs": [
    {
     "name": "stderr",
     "output_type": "stream",
     "text": [
      "Importing plotly failed. Interactive plots will not work.\n",
      "Importing plotly failed. Interactive plots will not work.\n"
     ]
    },
    {
     "data": {
      "text/plain": [
       "<module 'feature_engineering' from 'c:\\\\Users\\\\Usuario\\\\Documents\\\\Universidad\\\\austral\\\\2025\\\\Lab3\\\\Lab3-MCD\\\\notebooks\\\\model_prophet\\\\../../notebooks/entregable/scripts\\\\feature_engineering.py'>"
      ]
     },
     "execution_count": 2,
     "metadata": {},
     "output_type": "execute_result"
    }
   ],
   "source": [
    "sys.path.append('../../notebooks/entregable/scripts')\n",
    "import dataset\n",
    "import preprocesamiento\n",
    "import target\n",
    "import feature_engineering\n",
    "importlib.reload(dataset)\n",
    "importlib.reload(preprocesamiento)\n",
    "importlib.reload(target)\n",
    "importlib.reload(feature_engineering)"
   ]
  },
  {
   "cell_type": "markdown",
   "id": "c9e285e1",
   "metadata": {},
   "source": [
    "##### Dataset \"base\"\n",
    "\n",
    "Para generar el dataset base: Ejecutar este notebook\n",
    "\n",
    "./generadores/generador_dataset_sellin.ipynb\n"
   ]
  },
  {
   "cell_type": "code",
   "execution_count": 3,
   "id": "b263769e",
   "metadata": {},
   "outputs": [
    {
     "data": {
      "text/plain": [
       "(2945818, 13)"
      ]
     },
     "execution_count": 3,
     "metadata": {},
     "output_type": "execute_result"
    }
   ],
   "source": [
    "df = pd.read_csv(\"../../data/preprocessed/base.csv\", sep=',')\n",
    "df.shape"
   ]
  },
  {
   "cell_type": "code",
   "execution_count": 4,
   "id": "f1da2ae4",
   "metadata": {},
   "outputs": [
    {
     "data": {
      "text/plain": [
       "(44388, 2)"
      ]
     },
     "execution_count": 4,
     "metadata": {},
     "output_type": "execute_result"
    }
   ],
   "source": [
    "#### COMBINATORIA ####\n",
    "data = dataset.combinatoria_periodo_producto()\n",
    "data['periodo'] = data['periodo'].dt.year * 100 + data['periodo'].dt.month\n",
    "data.shape"
   ]
  },
  {
   "cell_type": "code",
   "execution_count": 5,
   "id": "1e26aa55",
   "metadata": {},
   "outputs": [
    {
     "data": {
      "application/vnd.microsoft.datawrangler.viewer.v0+json": {
       "columns": [
        {
         "name": "index",
         "rawType": "int64",
         "type": "integer"
        },
        {
         "name": "product_id",
         "rawType": "int64",
         "type": "integer"
        },
        {
         "name": "periodo",
         "rawType": "int32",
         "type": "integer"
        }
       ],
       "ref": "ee4dbc76-5b4d-4263-8567-c8837c6019c1",
       "rows": [
        [
         "0",
         "20524",
         "201701"
        ],
        [
         "1",
         "20524",
         "201702"
        ],
        [
         "2",
         "20524",
         "201703"
        ],
        [
         "3",
         "20524",
         "201704"
        ],
        [
         "4",
         "20524",
         "201705"
        ],
        [
         "5",
         "20524",
         "201706"
        ],
        [
         "6",
         "20524",
         "201707"
        ],
        [
         "7",
         "20524",
         "201708"
        ],
        [
         "8",
         "20524",
         "201709"
        ],
        [
         "9",
         "20524",
         "201710"
        ],
        [
         "10",
         "20524",
         "201711"
        ],
        [
         "11",
         "20524",
         "201712"
        ],
        [
         "12",
         "20524",
         "201801"
        ],
        [
         "13",
         "20524",
         "201802"
        ],
        [
         "14",
         "20524",
         "201803"
        ],
        [
         "15",
         "20524",
         "201804"
        ],
        [
         "16",
         "20524",
         "201805"
        ],
        [
         "17",
         "20524",
         "201806"
        ],
        [
         "18",
         "20524",
         "201807"
        ],
        [
         "19",
         "20524",
         "201808"
        ],
        [
         "20",
         "20524",
         "201809"
        ],
        [
         "21",
         "20524",
         "201810"
        ],
        [
         "22",
         "20524",
         "201811"
        ],
        [
         "23",
         "20524",
         "201812"
        ],
        [
         "24",
         "20524",
         "201901"
        ],
        [
         "25",
         "20524",
         "201902"
        ],
        [
         "26",
         "20524",
         "201903"
        ],
        [
         "27",
         "20524",
         "201904"
        ],
        [
         "28",
         "20524",
         "201905"
        ],
        [
         "29",
         "20524",
         "201906"
        ],
        [
         "30",
         "20524",
         "201907"
        ],
        [
         "31",
         "20524",
         "201908"
        ],
        [
         "32",
         "20524",
         "201909"
        ],
        [
         "33",
         "20524",
         "201910"
        ],
        [
         "34",
         "20524",
         "201911"
        ],
        [
         "35",
         "20524",
         "201912"
        ],
        [
         "36",
         "20311",
         "201701"
        ],
        [
         "37",
         "20311",
         "201702"
        ],
        [
         "38",
         "20311",
         "201703"
        ],
        [
         "39",
         "20311",
         "201704"
        ],
        [
         "40",
         "20311",
         "201705"
        ],
        [
         "41",
         "20311",
         "201706"
        ],
        [
         "42",
         "20311",
         "201707"
        ],
        [
         "43",
         "20311",
         "201708"
        ],
        [
         "44",
         "20311",
         "201709"
        ],
        [
         "45",
         "20311",
         "201710"
        ],
        [
         "46",
         "20311",
         "201711"
        ],
        [
         "47",
         "20311",
         "201712"
        ],
        [
         "48",
         "20311",
         "201801"
        ],
        [
         "49",
         "20311",
         "201802"
        ]
       ],
       "shape": {
        "columns": 2,
        "rows": 28080
       }
      },
      "text/html": [
       "<div>\n",
       "<style scoped>\n",
       "    .dataframe tbody tr th:only-of-type {\n",
       "        vertical-align: middle;\n",
       "    }\n",
       "\n",
       "    .dataframe tbody tr th {\n",
       "        vertical-align: top;\n",
       "    }\n",
       "\n",
       "    .dataframe thead th {\n",
       "        text-align: right;\n",
       "    }\n",
       "</style>\n",
       "<table border=\"1\" class=\"dataframe\">\n",
       "  <thead>\n",
       "    <tr style=\"text-align: right;\">\n",
       "      <th></th>\n",
       "      <th>product_id</th>\n",
       "      <th>periodo</th>\n",
       "    </tr>\n",
       "  </thead>\n",
       "  <tbody>\n",
       "    <tr>\n",
       "      <th>0</th>\n",
       "      <td>20524</td>\n",
       "      <td>201701</td>\n",
       "    </tr>\n",
       "    <tr>\n",
       "      <th>1</th>\n",
       "      <td>20524</td>\n",
       "      <td>201702</td>\n",
       "    </tr>\n",
       "    <tr>\n",
       "      <th>2</th>\n",
       "      <td>20524</td>\n",
       "      <td>201703</td>\n",
       "    </tr>\n",
       "    <tr>\n",
       "      <th>3</th>\n",
       "      <td>20524</td>\n",
       "      <td>201704</td>\n",
       "    </tr>\n",
       "    <tr>\n",
       "      <th>4</th>\n",
       "      <td>20524</td>\n",
       "      <td>201705</td>\n",
       "    </tr>\n",
       "    <tr>\n",
       "      <th>...</th>\n",
       "      <td>...</td>\n",
       "      <td>...</td>\n",
       "    </tr>\n",
       "    <tr>\n",
       "      <th>42835</th>\n",
       "      <td>20127</td>\n",
       "      <td>201908</td>\n",
       "    </tr>\n",
       "    <tr>\n",
       "      <th>42836</th>\n",
       "      <td>20127</td>\n",
       "      <td>201909</td>\n",
       "    </tr>\n",
       "    <tr>\n",
       "      <th>42837</th>\n",
       "      <td>20127</td>\n",
       "      <td>201910</td>\n",
       "    </tr>\n",
       "    <tr>\n",
       "      <th>42838</th>\n",
       "      <td>20127</td>\n",
       "      <td>201911</td>\n",
       "    </tr>\n",
       "    <tr>\n",
       "      <th>42839</th>\n",
       "      <td>20127</td>\n",
       "      <td>201912</td>\n",
       "    </tr>\n",
       "  </tbody>\n",
       "</table>\n",
       "<p>28080 rows × 2 columns</p>\n",
       "</div>"
      ],
      "text/plain": [
       "       product_id  periodo\n",
       "0           20524   201701\n",
       "1           20524   201702\n",
       "2           20524   201703\n",
       "3           20524   201704\n",
       "4           20524   201705\n",
       "...           ...      ...\n",
       "42835       20127   201908\n",
       "42836       20127   201909\n",
       "42837       20127   201910\n",
       "42838       20127   201911\n",
       "42839       20127   201912\n",
       "\n",
       "[28080 rows x 2 columns]"
      ]
     },
     "execution_count": 5,
     "metadata": {},
     "output_type": "execute_result"
    }
   ],
   "source": [
    "productos_ok = pd.read_csv(\"../../data/raw/product_id_apredecir201912.csv\", sep=\"\\t\")\n",
    "data = data[data['product_id'].isin(productos_ok['product_id'].unique())]\n",
    "data"
   ]
  },
  {
   "cell_type": "code",
   "execution_count": 6,
   "id": "5c40f704",
   "metadata": {},
   "outputs": [
    {
     "data": {
      "text/plain": [
       "20"
      ]
     },
     "execution_count": 6,
     "metadata": {},
     "output_type": "execute_result"
    }
   ],
   "source": [
    "#### MERGE CON PRODUCTOS ####\n",
    "productos = pd.read_csv(\"../../data/raw/tb_productos.csv\", sep='\\t')\n",
    "productos = productos.drop_duplicates(subset=['product_id'], keep='first')\n",
    "data = data.merge(productos, how='left', on=\"product_id\")\n",
    "del productos\n",
    "\n",
    "#### MERGE CON STOCKS ####\n",
    "stocks = pd.read_csv(\"../../data/raw/tb_stocks.csv\", sep='\\t')\n",
    "stocks = stocks.groupby(by=[\"periodo\", \"product_id\"]).agg({\"stock_final\": \"sum\"}).reset_index()\n",
    "data = data.merge(stocks, how='left', on=['periodo', 'product_id'])\n",
    "del stocks\n",
    "\n",
    "#### MERGE CON SELLIN ####\n",
    "sellin = pd.read_csv(\"../../data/raw/sell-in.csv\", sep='\\t')\n",
    "sellin = sellin.groupby(by=[\"periodo\",\"product_id\"]).agg({\"tn\":\"sum\", \"plan_precios_cuidados\":\"sum\", \"cust_request_qty\":\"sum\", \"cust_request_tn\":\"sum\"}).reset_index()\n",
    "data = data.merge(sellin, how='left', on=['periodo', 'product_id'])\n",
    "del sellin\n",
    "gc.collect()"
   ]
  },
  {
   "cell_type": "code",
   "execution_count": 8,
   "id": "132633a2",
   "metadata": {},
   "outputs": [
    {
     "name": "stdout",
     "output_type": "stream",
     "text": [
      "Total de periodos con Nan debido a la combinatoria periodo_x_producto: 5731\n"
     ]
    }
   ],
   "source": [
    "#### COMPLETO TN CON CEROS ####\n",
    "####  ¿cuantos?\n",
    "print(f\"Total de periodos con Nan debido a la combinatoria periodo_x_producto: {data['tn'].isna().sum()}\")\n",
    "#### Lo completo con ceros\n",
    "data['tn'] = data['tn'].fillna(0)"
   ]
  },
  {
   "cell_type": "code",
   "execution_count": 9,
   "id": "30b9c1bb",
   "metadata": {},
   "outputs": [],
   "source": [
    "#### GUARDAR DATAFRAME ####\n",
    "data.to_csv(\"./datasets/periodo_x_producto.csv\", index=False, sep=',', encoding='utf-8')"
   ]
  },
  {
   "cell_type": "code",
   "execution_count": 10,
   "id": "104a312f",
   "metadata": {},
   "outputs": [],
   "source": [
    "#### GUARDAR DATAFRAME ####\n",
    "data = pd.read_csv(\"./datasets/periodo_x_producto.csv\", sep=',')"
   ]
  },
  {
   "cell_type": "code",
   "execution_count": null,
   "id": "7452e01b",
   "metadata": {},
   "outputs": [],
   "source": [
    "import pandas as pd\n",
    "from prophet import Prophet\n",
    "from tqdm import tqdm\n",
    "\n",
    "# ---------------------\n",
    "# 🛠 Preparación inicial\n",
    "# ---------------------\n",
    "\n",
    "# Creo DF\n",
    "df = data[['product_id','periodo', 'tn']].copy()\n",
    "\n",
    "# Convertir 'periodo' (yyyymm) a datetime\n",
    "df['periodo_dt'] = pd.to_datetime(df['periodo'].astype(str), format='%Y%m')\n",
    "df = df.sort_values(['product_id', 'periodo_dt'])  # Ordenar por producto y fecha\n",
    "\n",
    "df.drop(columns=['periodo'], inplace=True)  # Eliminar columna temporal\n",
    "df.rename(columns={'tn': 'y', 'periodo_dt':'ds'}, inplace=True)  # Renombrar columna de tn\n",
    "\n",
    "productos_ok = pd.read_csv(\"../../data/raw/product_id_apredecir201912.csv\", sep=\"\\t\")\n",
    "\n",
    "\n",
    "\n",
    "# Para guardar las predicciones\n",
    "resultados = []\n",
    "\n",
    "# ---------------------\n",
    "#  Loop por producto\n",
    "# ---------------------\n",
    "for product_id in productos_ok['product_id'].unique():\n",
    "    df_prod = df[df['product_id'] == product_id].sort_values('ds')\n",
    "\n",
    "    if len(df_prod) < 6:\n",
    "        continue  # opcional: saltear series demasiado cortas\n",
    "\n",
    "    # Entrenar Prophet\n",
    "    model = Prophet(yearly_seasonality=True)\n",
    "    model.fit(df_prod[['ds', 'y']])\n",
    "\n",
    "    # Predecir mes +2\n",
    "    ultima_fecha = df_prod['ds'].max()\n",
    "    future = model.make_future_dataframe(periods=2, freq='MS')\n",
    "    future = future[future['ds'] > ultima_fecha]  # solo fechas futuras\n",
    "    pred = model.predict(future)\n",
    "\n",
    "    # Obtener solo la predicción de mes+2\n",
    "    pred_mes2 = pred.tail(1)\n",
    "\n",
    "    resultados.append({\n",
    "        'product_id': product_id,\n",
    "        'fecha_predicha': pred_mes2['ds'].values[0],\n",
    "        'yhat': pred_mes2['yhat'].values[0],\n",
    "        'yhat_lower': pred_mes2['yhat_lower'].values[0],\n",
    "        'yhat_upper': pred_mes2['yhat_upper'].values[0]\n",
    "    })\n",
    "\n",
    "# ---------------------\n",
    "# 📊 Resultados finales\n",
    "# ---------------------\n",
    "df_predicciones = pd.DataFrame(resultados)\n",
    "print(df_predicciones.head())\n"
   ]
  },
  {
   "cell_type": "code",
   "execution_count": null,
   "id": "4a8c0c3e",
   "metadata": {},
   "outputs": [],
   "source": [
    "df_predicciones.rename(columns={'yhat': 'tn'}, inplace=True)\n",
    "df_predicciones[['product_id', 'tn']].to_csv(\"prophet_v2.csv\", index=False, sep=',', encoding='utf-8')"
   ]
  },
  {
   "cell_type": "code",
   "execution_count": 4,
   "id": "4e4b0306",
   "metadata": {},
   "outputs": [],
   "source": [
    "df_kaggle = pd.read_csv(\"./datasets/prophet_v2.csv\", sep=',')\n",
    "df_kaggle.rename(columns={'yhat': 'tn'}, inplace=True)\n",
    "df_kaggle[['product_id', 'tn']].to_csv(\"./datasets/prophet_v2_kaggle.csv\", index=False, sep=',', encoding='utf-8')"
   ]
  },
  {
   "cell_type": "code",
   "execution_count": null,
   "id": "d802292c",
   "metadata": {},
   "outputs": [],
   "source": [
    "df_kaggle = pd.read_csv(\"./datasets/prophet_v2.csv\", sep=',')\n",
    "df_kaggle.rename(columns={'yhat_lower': 'tn'}, inplace=True)\n",
    "df_kaggle[['product_id', 'tn']].to_csv(\"./datasets/prophet_yhat_lower.csv\", index=False, sep=',', encoding='utf-8')"
   ]
  }
 ],
 "metadata": {
  "kernelspec": {
   "display_name": "py311lab3",
   "language": "python",
   "name": "python3"
  },
  "language_info": {
   "codemirror_mode": {
    "name": "ipython",
    "version": 3
   },
   "file_extension": ".py",
   "mimetype": "text/x-python",
   "name": "python",
   "nbconvert_exporter": "python",
   "pygments_lexer": "ipython3",
   "version": "3.11.13"
  }
 },
 "nbformat": 4,
 "nbformat_minor": 5
}
